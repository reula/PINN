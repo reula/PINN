{
 "cells": [
  {
   "cell_type": "markdown",
   "id": "006ba2f2",
   "metadata": {},
   "source": [
    "# 1D Wave Equation with Dirichlet boundary conditions\n",
    "\n",
    "Let's solve this 1-dimensional wave equation:\n",
    "\n",
    "```math\n",
    "\\begin{align*}\n",
    "∂^2_t u(x, t) = c^2 ∂^2_x u(x, t) \\quad & \\textsf{for all } 0 < x < 1 \\text{ and } t > 0 \\, , \\\\\n",
    "u(0, t) = u(1, t) = 0 \\quad & \\textsf{for all } t > 0 \\, , \\\\\n",
    "u(x, 0) = x (1-x)     \\quad & \\textsf{for all } 0 < x < 1 \\, , \\\\\n",
    "∂_t u(x, 0) = 0       \\quad & \\textsf{for all } 0 < x < 1 \\, , \\\\\n",
    "\\end{align*}\n",
    "```\n",
    "\n",
    "with grid discretization `dx = 0.1` and physics-informed neural networks.\n",
    "\n",
    "Further, the solution of this equation with the given boundary conditions is presented.\n"
   ]
  },
  {
   "cell_type": "code",
   "execution_count": null,
   "id": "5e404a56",
   "metadata": {},
   "outputs": [],
   "source": [
    "using NeuralPDE, Lux, Optimization, OptimizationOptimJL\n",
    "using ModelingToolkit, IntervalSets, Plots, LinearAlgebra, JLD2\n",
    "using QuadGK, Printf\n"
   ]
  },
  {
   "cell_type": "code",
   "execution_count": null,
   "id": "f1a09b82",
   "metadata": {},
   "outputs": [],
   "source": [
    "\n",
    "@parameters t, x\n",
    "@variables u(..)\n",
    "Dxx = Differential(x)^2\n",
    "Dtt = Differential(t)^2\n",
    "Dt = Differential(t)\n",
    "\n",
    "#2D PDE\n",
    "C = 1\n",
    "A = 0.01\n",
    "\n",
    "# Space and time domains\n",
    "tmin = 0.0\n",
    "tmax = 10.0\n",
    "xmin = 0.0\n",
    "xmax = 5.0\n",
    "\n",
    "domains = [t ∈ Interval(tmin, tmax),\n",
    "    x ∈ Interval(xmin, xmax)]\n",
    "# Discretization\n",
    "dx = 0.1\n",
    "\n",
    "eq = Dtt(u(t, x)) ~ C^2 * Dxx(u(t, x))\n",
    "\n",
    "# Initial and boundary conditions\n",
    "bcs = [u(t, xmin) ~ 0.0,# for all t > 0\n",
    "    u(t, xmax) ~ 0.0,# for all t > 0\n",
    "    u(0, x) ~ -A*(x - xmin)^4 * (x - xmax)^4, #for all xmin < x < xmax\n",
    "    Dt(u(0, x)) ~ 0.0] #for all  0 < x < 1]\n",
    "\n",
    "\n",
    "\n",
    "# Neural network\n",
    "chain = Chain(Dense(2, 16, σ), Dense(16, 16, σ), Dense(16, 1))\n",
    "discretization = PhysicsInformedNN(chain, GridTraining(dx))\n",
    "\n",
    "@named pde_system = PDESystem(eq, bcs, domains, [t, x], [u(t, x)])\n",
    "prob = discretize(pde_system, discretization)\n",
    "\n",
    "loss = Float64[]\n",
    "callback = function (p, l)\n",
    "    println(\"Current loss is: $l\")\n",
    "    push!(loss, l)\n",
    "    return false\n",
    "end\n",
    "\n",
    "# optimizer\n",
    "opt = OptimizationOptimJL.BFGS()\n",
    "res = Optimization.solve(prob, opt; callback, maxiters = 12000)\n",
    "phi = discretization.phi"
   ]
  },
  {
   "cell_type": "code",
   "execution_count": null,
   "id": "a1fb685d",
   "metadata": {},
   "outputs": [],
   "source": [
    "plot(log10.(loss))"
   ]
  },
  {
   "cell_type": "code",
   "execution_count": null,
   "id": "77959f98",
   "metadata": {},
   "outputs": [],
   "source": [
    "xs = collect(xmin:dx:xmax)\n",
    "t = 10.0\n",
    "\n",
    "@show size(xs), size(t_fix)\n",
    "# plot at a given time:\n",
    "\n",
    "u_predict = [first(phi([t, x], res.u)) for x in xs]\n",
    "u_exact = [-A*(x-xmin)^4*(x-xmax)^4 for x in xs]\n",
    "\n",
    "plot(xs, u_predict, xlabel=\"x\", ylabel=\"u\", title=\"t = $t\", legend=false)\n",
    "plot!(xs, u_exact, linestyle=:dash, label=\"Exact Solution\")"
   ]
  },
  {
   "cell_type": "code",
   "execution_count": null,
   "id": "557fd6a7",
   "metadata": {},
   "outputs": [],
   "source": [
    "plot(xs, u_predict - u_exact , xlabel=\"x\", ylabel=\"u\", title=\"t = $t\", label=\"error\")"
   ]
  },
  {
   "cell_type": "code",
   "execution_count": null,
   "id": "140303fb",
   "metadata": {},
   "outputs": [],
   "source": [
    "Error = norm(u_predict - u_exact, Inf)"
   ]
  },
  {
   "cell_type": "markdown",
   "id": "18ec563c",
   "metadata": {},
   "source": [
    "The error at t = 10 with max_iter = 12_000 is 0.039374747599917576"
   ]
  },
  {
   "cell_type": "code",
   "execution_count": null,
   "id": "4938264a",
   "metadata": {},
   "outputs": [],
   "source": [
    "@save \"wave_dirichlet_1D_Neural_MI12kGT.jld2\" res phi loss Error"
   ]
  },
  {
   "cell_type": "code",
   "execution_count": null,
   "id": "18758373",
   "metadata": {},
   "outputs": [],
   "source": [
    "\n",
    "ts = collect(tmin:dx:tmax)\n",
    "xs = collect(xmin:dx:xmax)\n",
    "\n",
    "#t = 10.0\n",
    "#ts = fill(t, length(xs))\n",
    "\"\"\"\n",
    "This is the analytic solution for the wave equation with Dirichlet boundary conditions\n",
    "and initial condition u(0,x) = -(x-xmin) * (x-xmax) in the domain [0,L], and u_t(0,x) = 0.\n",
    "\"\"\"\n",
    "\n",
    "function analytic_sol_func_linear_data(t, x, L)\n",
    "    sum([(8 / (k^3 * pi^3)/L^3) * sin(k * pi * x / L) * cos(C * k * pi * t / L) for k in 1:2:50000])\n",
    "end\n",
    "\n",
    "# Function to expand\n",
    "f(x) = -x^4 * (x - 1)^4\n",
    "\n",
    "# Compute the nth Fourier sine coefficient\n",
    "function bn(n,L)\n",
    "    integrand(x) = f(x) * sin(n * π * x / L)\n",
    "    return 2 * quadgk(integrand, 0, 1)[1]\n",
    "end\n",
    "\n",
    "function analytic_sol_func_quartic_data(t, x, L)\n",
    "    bn_list = [bn(k,xmax - xmin) for k in 1:2:50]\n",
    "    sum([(8 / (k^3 * pi^3)/L^3) * sin(k * pi * x / L) * cos(C * k * pi * t / L) for k in 1:2:50])\n",
    "end\n",
    "\n",
    "u_predict = reshape([first(phi([t, x], res.u)) for t in ts for x in xs],\n",
    "    (length(ts), length(xs)))\n",
    "u_real = A * reshape([analytic_sol_func_quartic_data(t, x, xmax - xmin) for t in ts for x in xs],\n",
    "    (length(ts), length(xs)))\n",
    "\n",
    "diff_u = abs.(u_predict .- u_real)\n",
    "#p1 = plot(ts, xs, u_real, linetype = :contourf, title = \"analytic\");\n",
    "p2 = plot(xs, ts, u_predict, linetype = :contourf, title = \"predict\");\n",
    "#p3 = plot(ts, xs, diff_u, linetype = :contourf, title = \"error\");\n",
    "\n",
    "plot(p1, p2, p3)\n"
   ]
  },
  {
   "cell_type": "code",
   "execution_count": null,
   "id": "a5253e95",
   "metadata": {},
   "outputs": [],
   "source": [
    "using QuadGK, Printf\n",
    "\n",
    "# Function to expand\n",
    "f(x) = -x^4 * (x - 1)^4\n",
    "\n",
    "# Compute the nth Fourier sine coefficient\n",
    "function bn(n,L)\n",
    "    integrand(x) = f(x) * sin(n * π * x / L)\n",
    "    return 2 * quadgk(integrand, 0, 1)[1]\n",
    "end\n",
    "\n",
    "# Print first 10 coefficients\n",
    "for n in 1:10\n",
    "    @printf(\"b_%d = %.8e\\n\", n, bn(n,1))\n",
    "end"
   ]
  },
  {
   "cell_type": "code",
   "execution_count": null,
   "id": "51fda184",
   "metadata": {},
   "outputs": [],
   "source": []
  }
 ],
 "metadata": {
  "kernelspec": {
   "display_name": "Julia 1.11.7",
   "language": "julia",
   "name": "julia-1.11"
  },
  "language_info": {
   "file_extension": ".jl",
   "mimetype": "application/julia",
   "name": "julia",
   "version": "1.11.7"
  }
 },
 "nbformat": 4,
 "nbformat_minor": 5
}
