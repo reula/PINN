{
 "cells": [
  {
   "cell_type": "markdown",
   "id": "d3870179",
   "metadata": {},
   "source": [
    "# Wave with periodic bc with the scheme from Palma\n",
    "\n",
    "We solve the wave equation with Dirichlet boundary conditions (homogeneous) up to $T = 2L$ where $L$ is the space size of the integrating region. The data is reflection symmetric, $u_0(x) = u_0(L-x)$, $\\partial_t u(x,t=0) = 0$. This way at the last point the solution repeats itself and we can measure the error very well."
   ]
  },
  {
   "cell_type": "code",
   "execution_count": null,
   "id": "8b96c884",
   "metadata": {},
   "outputs": [],
   "source": [
    "import Pkg\n",
    "Pkg.add(\"Zygote\")\n",
    "#Pkg.instantiate()\n",
    "#Pkg.add(\"StatsBase\")\n",
    "using ComponentArrays\n",
    "using Distributions\n",
    "#using WGLMakie\n",
    "using Lux\n",
    "using LuxCUDA\n",
    "using OptimizationOptimJL\n",
    "using Random\n",
    "using UnPack\n",
    "using Zygote\n",
    "#using CairoMakie  # Backend que funciona en notebooks\n",
    "using StatsBase\n",
    "using Revise\n",
    "#import NaNMath"
   ]
  },
  {
   "cell_type": "markdown",
   "id": "72174904",
   "metadata": {},
   "source": [
    "I put some functions here."
   ]
  },
  {
   "cell_type": "code",
   "execution_count": null,
   "id": "2b9bc019",
   "metadata": {},
   "outputs": [],
   "source": [
    "includet(\"neural_tools.jl\")"
   ]
  },
  {
   "cell_type": "code",
   "execution_count": null,
   "id": "4b173ddd",
   "metadata": {},
   "outputs": [],
   "source": [
    "# -------------------------------------------------------------------\n",
    "# Configuración\n",
    "# -------------------------------------------------------------------\n",
    "config = Dict(\n",
    "    :N_input => 2,          # [x; t]\n",
    "    :N_neurons => 20,\n",
    "    :N_layers => 3,\n",
    "    :N_output => 1, \n",
    "    :N_points => 15000,     # puntos de colisión (x,t)\n",
    "    :xmin => 0.0,\n",
    "    :xmax => 5.0,           # = L dominio espacial\n",
    "    :tmin => 0.0,           # t_min\n",
    "    :tmax => 10.0,           # t_max\n",
    "    :optimizer => BFGS(),\n",
    "    :maxiters => 3000,\n",
    "    # for the initial data\n",
    "    :A => 0.010,\n",
    "    :x0 => 2.0,\n",
    "    :x1 => 3.0,\n",
    "    :p => 2,\n",
    "    :c => 1.0\n",
    ")"
   ]
  },
  {
   "cell_type": "markdown",
   "id": "c8b1da1f",
   "metadata": {},
   "source": [
    "**Note 1:** I attempted to put a bump function of compact support (with some if's) and could not make it run. It seems there are problems with the AD scheme to handle if's. So I put a simpler function.\n",
    "\n",
    "**Note 2:** As it is, with adaptive it takes 12 hours (CPU) to run... And the solution is wrong..."
   ]
  },
  {
   "cell_type": "code",
   "execution_count": null,
   "id": "72ecacfd",
   "metadata": {},
   "outputs": [],
   "source": [
    "# -------------------------------------------------------------------\n",
    "# Second order wave equation (onda 1D): u_tt - c^2 u_xx = 0\n",
    "# -------------------------------------------------------------------\n",
    "wave_equation(∂2u_∂x2, ∂2u_∂t2, c) = ∂2u_∂t2 .- (c^2) .* ∂2u_∂x2\n",
    "\n",
    "```\n",
    "Residual at collocation points\n",
    "``` \n",
    "\n",
    "function residual_at_points_Dirichlet(input, NN, Θ, st)\n",
    "    x, t = input[1:1, :], input[2:2, :]\n",
    "    _, u_xx, u_tt = calculate_derivatives_Dirichlet(x, t, NN, Θ, st)\n",
    "    res = wave_equation(u_xx, u_tt, config[:c])\n",
    "    return vec(abs.(res |> cpu_device()))  # magnitud del residuo en CPU\n",
    "end\n",
    "\n",
    "\n",
    "# -------------------------------------------------------------------\n",
    "# Loss function with Dirichlet boundary conditions hard enforced.\n",
    "# -------------------------------------------------------------------\n",
    "\n",
    "function loss_function(input, NN, Θ, st)\n",
    "    res = residual_at_points_Dirichlet(input, NN, Θ, st)\n",
    "    #return NaNMath.log10(sum(abs2, res) / length(res))\n",
    "    return log10(sum(abs2, res) / length(res))\n",
    "end\n",
    "\n",
    "#=\n",
    "function loss_function(input, NN, Θ, st)\n",
    "    x, t = input[1:1, :], input[2:2, :]\n",
    "    _, u_xx, u_tt = calculate_derivatives_Dirichlet(x, t, NN, Θ, st)\n",
    "    res = wave_equation(u_xx, u_tt, config[:c])\n",
    "    #return NaNMath.log10(sum(abs2, res) / length(res))\n",
    "    return log10(sum(abs2, res) / length(res))\n",
    "end\n",
    "=#\n",
    "\n",
    "# -------------------------------------------------------------------\n",
    "# Callback\n",
    "# -------------------------------------------------------------------\n",
    "function callback(p, l, losses)\n",
    "    push!(losses, l)\n",
    "    println(\"Current loss: \", l)\n",
    "    return false\n",
    "end"
   ]
  },
  {
   "cell_type": "code",
   "execution_count": null,
   "id": "0082f2bb",
   "metadata": {},
   "outputs": [],
   "source": [
    "loss_function(input, NN, Θ, st)"
   ]
  },
  {
   "cell_type": "code",
   "execution_count": null,
   "id": "3bd6186e",
   "metadata": {},
   "outputs": [],
   "source": [
    "# -------------------------------------------------------------------\n",
    "# Entrenamiento\n",
    "# -------------------------------------------------------------------\n",
    "losses = Float64[]\n",
    "\n",
    "NN, Θ, st = create_neural_network(config)\n",
    "input = generate_input_x_t(config)\n",
    "\n",
    "@show typeof(input) size(input)\n",
    "\n"
   ]
  },
  {
   "cell_type": "code",
   "execution_count": null,
   "id": "8dfcfa3d",
   "metadata": {},
   "outputs": [],
   "source": [
    "\n",
    "\n",
    "#calculate_Dirichlet_f(input[1:1, :], input[2:2, :], NN, Θ, st)\n",
    "f, ∂2f_∂x2, ∂2f_∂t2 = calculate_derivatives_Dirichlet(input[1:1, :], input[2:2, :], NN, Θ, st)\n",
    "\n",
    "f"
   ]
  },
  {
   "cell_type": "code",
   "execution_count": null,
   "id": "02e6102c",
   "metadata": {},
   "outputs": [],
   "source": [
    "#adaptive = true\n",
    "adaptive = false\n",
    "\n",
    "if adaptive \n",
    "    # Configura las rondas adaptativas (ajusta a tu gusto)\n",
    "    nrounds = 20                # nº de rondas RAD\n",
    "    iters_per_round = 500       # iteraciones BFGS por ronda\n",
    "    #k1, k2 = 1.0, 1          # hiperparámetros RAD\n",
    "    Ntest = 200_000              # candidatos por ronda\n",
    "\n",
    "    for r in 1:nrounds\n",
    "        @info \"RAD round $r / $nrounds  |  iters=$iters_per_round\"\n",
    "        # Optimiza sobre el conjunto actual de colisión\n",
    "        optf   = OptimizationFunction((Θ, input) -> loss_function(input, NN, Θ, st), AutoZygote())\n",
    "        optprob = OptimizationProblem(optf, Θ, input)\n",
    "        optres  = solve(\n",
    "            optprob,\n",
    "            config[:optimizer];\n",
    "            callback = (p, l) -> callback(p, l, losses),\n",
    "            maxiters = iters_per_round,\n",
    "        )\n",
    "        Θ = optres.u  # continúa desde el óptimo de la ronda\n",
    "\n",
    "        # Re-muestrea puntos de colisión ponderando por residuo\n",
    "        input = adaptive_rad(NN, Θ, st, config; Ntest=Ntest, Nint=config[:N_points])#, k1=k1, k2=k2)\n",
    "    end\n",
    "\n",
    "else\n",
    "    @info \"Training with $(config[:N_points]) collocation points and $(config[:maxiters]) iterations\"\n",
    "\n",
    "    optf = OptimizationFunction((Θ, input) -> loss_function(input, NN, Θ, st), AutoZygote())\n",
    "    optprob = OptimizationProblem(optf, Θ, input)\n",
    "\n",
    "    optresult = solve(\n",
    "        optprob,\n",
    "        callback = (p, l) -> callback(p, l, losses),\n",
    "        config[:optimizer],\n",
    "        maxiters = config[:maxiters],\n",
    "    )\n",
    "end\n",
    "\n",
    "# Parámetros optimizados a CPU si procede\n",
    "Θ = optresult.u |> cpu_device()\n"
   ]
  },
  {
   "cell_type": "code",
   "execution_count": null,
   "id": "22e9e8d6",
   "metadata": {},
   "outputs": [],
   "source": [
    "ax = (title = \"loss vs iterations\")\n",
    "fig, ax = lines(losses, label = \"Loss\")\n",
    "axislegend()\n",
    "fig"
   ]
  },
  {
   "cell_type": "code",
   "execution_count": null,
   "id": "b76c2d54",
   "metadata": {},
   "outputs": [],
   "source": [
    "@save \"wave_Dir_1.jld2\" config domains eqs bcs depvars θ st loss"
   ]
  },
  {
   "cell_type": "code",
   "execution_count": null,
   "id": "fb73de9d",
   "metadata": {},
   "outputs": [],
   "source": [
    "ax = (title = \"solution\")\n",
    "t = 10.0\n",
    "xs = reshape(collect(range(config[:xmin], config[:xmax], length=200)), 1, :)\n",
    "t_fix = reshape(fill(t, length(xs)), 1, :)\n",
    "#sol_p = [calculate_Dirichlet_f(xs, t_fix, NN, Θ, st) for x in xs]\n",
    "sol_p = [calculate_Dirichlet_f(xs[:,i], t_fix[:,i], NN, Θ, st)[1] for i in 1:length(xs[1,:])]\n",
    "\n",
    "#xs[1,1]\n",
    "fig, ax = lines(xs[1,:],sol_p, label = \"t=0\")\n",
    "#lines!(xs[1,:],bump.(xs[1,:], config[:x0], config[:x1], config[:p], config[:A]), label = \"initial condition\")\n",
    "lines!(xs[1,:],-S*config[:A]*(xs[1,:] .- config[:xmin]).^4 .* (xs[1,:] .- config[:xmax]).^4, label = \"initial condition\", linestyle = :dash)     \n",
    "axislegend()\n",
    "fig"
   ]
  },
  {
   "cell_type": "code",
   "execution_count": null,
   "id": "1a5109c0",
   "metadata": {},
   "outputs": [],
   "source": [
    "initad = [-config[:A]*(xs[1,i] .- config[:xmin]).^4 .* (xs[1,i] .- config[:xmax]).^4 for i in 1:length(xs[1,:])]\n",
    "S = maximum(-sol_p)/maximum(-initad)"
   ]
  },
  {
   "cell_type": "code",
   "execution_count": null,
   "id": "2a27d887",
   "metadata": {},
   "outputs": [],
   "source": [
    "ax = (title = \"solution\")\n",
    "t = 0.0\n",
    "xs = reshape(collect(range(config[:xmin], config[:xmax], length=200)), 1, :)\n",
    "t_fix = reshape(fill(t, length(xs)), 1, :)\n",
    "#sol_p = [calculate_Dirichlet_f(xs, t_fix, NN, Θ, st) for x in xs]\n",
    "sol_p = [calculate_Dirichlet_f(xs[:,i], t_fix[:,i], NN, Θ, st)[1] for i in 1:length(xs[1,:])]\n",
    "\n",
    "fig, ax = lines(xs[1,:],sol_p .+ S*(config[:A]*(xs[1,:] .+ config[:xmin]).^4 .* (xs[1,:] .- config[:xmax]).^4), label = \"t=0\")\n",
    "#lines!(xs[1,:],bump.(xs[1,:], config[:x0], config[:x1], config[:p], config[:A]), label = \"initial condition\")\n",
    "#lines!(xs[1,:],sol_p .-config[:A]*(xs[1,:] .- config[:xmin]).^4 .* (xs[1,:] .- config[:xmax]).^4, label = \"initial condition\", linestyle = :dash)     \n",
    "axislegend()\n",
    "fig"
   ]
  },
  {
   "cell_type": "markdown",
   "id": "14f6d8d5",
   "metadata": {},
   "source": [
    "**Save data:**"
   ]
  },
  {
   "cell_type": "code",
   "execution_count": null,
   "id": "07eab460",
   "metadata": {},
   "outputs": [],
   "source": [
    "#@save \"wave_dirichlet_1D_adaptive.jld2\" NN Θ st config losses\n",
    "@save \"wave_dirichlet_1D.jld2\" NN Θ st config losses"
   ]
  }
 ],
 "metadata": {
  "kernelspec": {
   "display_name": "Julia 1.11.7",
   "language": "julia",
   "name": "julia-1.11"
  },
  "language_info": {
   "file_extension": ".jl",
   "mimetype": "application/julia",
   "name": "julia",
   "version": "1.11.7"
  }
 },
 "nbformat": 4,
 "nbformat_minor": 5
}
