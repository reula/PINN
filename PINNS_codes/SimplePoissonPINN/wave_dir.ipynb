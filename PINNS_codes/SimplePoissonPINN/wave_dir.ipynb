{
 "cells": [
  {
   "cell_type": "markdown",
   "id": "d3870179",
   "metadata": {},
   "source": [
    "# Wave with periodic bc with the scheme from Palma\n",
    "\n",
    "We solve the wave equation with Dirichlet boundary conditions (homogeneous) up to $T = 2L$ where $L$ is the space size of the integrating region. The data is reflection symmetric, $u_0(x) = u_0(L-x)$, $\\partial_t u(x,t=0) = 0$. This way at the last point the solution repeats itself and we can measure the error very well."
   ]
  },
  {
   "cell_type": "code",
   "execution_count": 1,
   "id": "8b96c884",
   "metadata": {},
   "outputs": [],
   "source": [
    "import Pkg\n",
    "#Pkg.add(\"Zygote\")\n",
    "#Pkg.instantiate()\n",
    "#Pkg.add(\"StatsBase\")\n",
    "#Pkg.add(\"UnPack\")\n",
    "#Pkg.add(\"Revise\")\n",
    "using ComponentArrays\n",
    "using Distributions\n",
    "#using WGLMakie\n",
    "using Lux\n",
    "using LuxCUDA\n",
    "using OptimizationOptimJL\n",
    "using Random\n",
    "using UnPack\n",
    "using Zygote\n",
    "#using CairoMakie  # Backend que funciona en notebooks\n",
    "using StatsBase\n",
    "using Revise\n",
    "using Plots\n",
    "using JLD2\n",
    "#import NaNMath"
   ]
  },
  {
   "cell_type": "markdown",
   "id": "681d94b5",
   "metadata": {},
   "source": [
    "## Status:\n",
    "\n",
    "Working well in both GPU and CPU without adaptivity. Using both initial data for u and its derivative."
   ]
  },
  {
   "cell_type": "markdown",
   "id": "72174904",
   "metadata": {},
   "source": [
    "I put some functions here."
   ]
  },
  {
   "cell_type": "code",
   "execution_count": 2,
   "id": "2b9bc019",
   "metadata": {},
   "outputs": [],
   "source": [
    "includet(\"../../neural_tools.jl\")"
   ]
  },
  {
   "cell_type": "code",
   "execution_count": 3,
   "id": "4b173ddd",
   "metadata": {},
   "outputs": [
    {
     "data": {
      "text/plain": [
       "Dict{Symbol, Any} with 25 entries:\n",
       "  :N_input         => 2\n",
       "  :N_test          => 30000\n",
       "  :N_points_bound  => 0\n",
       "  :iters_per_round => 500\n",
       "  :N_points_0      => 0\n",
       "  :N_points        => 15000\n",
       "  :N_neurons       => 20\n",
       "  :k2              => 1.0\n",
       "  :x0              => 2.0\n",
       "  :A               => 1.0\n",
       "  :N_output        => 1\n",
       "  :tmax            => 2.0\n",
       "  :maxiters        => 3000\n",
       "  :p               => 2\n",
       "  :B               => 1.0\n",
       "  :c               => 1.0\n",
       "  :N_layers        => 3\n",
       "  :method          => :direct\n",
       "  :xmin            => 0.0\n",
       "  ⋮                => ⋮"
      ]
     },
     "metadata": {},
     "output_type": "display_data"
    }
   ],
   "source": [
    "# -------------------------------------------------------------------\n",
    "# Configuración\n",
    "# -------------------------------------------------------------------\n",
    "config = Dict(\n",
    "    :N_input => 2,          # [x; t]\n",
    "    :N_neurons => 20,\n",
    "    :N_layers => 3,\n",
    "    :N_output => 1, \n",
    "    :N_points => 15_000,     # puntos de colisión (x,t)\n",
    "    :N_points_bound => 0, # puntos de frontera\n",
    "    :N_points_0 => 0,    # puntos de condición inicial\n",
    "    :xmin => 0.0,\n",
    "    :xmax => 1.0,           # = L dominio espacial\n",
    "    :tmin => 0.0,           # t_min\n",
    "    :tmax => 2.0,           # t_max\n",
    "    #:optimizer => BFGS(),\n",
    "    :optimizer => SSBroyden(),\n",
    "    :maxiters => 3_000,\n",
    "    :N_rounds => 20,    # 5           # nº de rondas RAD\n",
    "    :iters_per_round => 500,       # iteraciones BFGS por ronda\n",
    "    :k1 => 1.0, \n",
    "    :k2 => 1.0,        # hiperparámetros RAD\n",
    "    :N_test => 30_000,             # candidatos por ronda, mayor que N_points\n",
    "    #:method => :adaptive,\n",
    "    :method => :direct,\n",
    "    # for the initial data\n",
    "    :A => 1.0,\n",
    "    :B => 1.0,\n",
    "    :x0 => 2.0,\n",
    "    :x1 => 3.0,\n",
    "    :p => 2,\n",
    "    :c => 1.0\n",
    ")"
   ]
  },
  {
   "cell_type": "markdown",
   "id": "c8b1da1f",
   "metadata": {},
   "source": [
    "**Note 1:** I attempted to put a bump function of compact support (with some if's) and could not make it run. It seems there are problems with the AD scheme to handle if's. So I put a simpler function.\n",
    "\n",
    "**Note 2:** As it is, with adaptive it takes 12 hours (CPU) to run... And the solution is wrong..."
   ]
  },
  {
   "cell_type": "code",
   "execution_count": 4,
   "id": "72ecacfd",
   "metadata": {},
   "outputs": [
    {
     "data": {
      "text/plain": [
       "callback (generic function with 1 method)"
      ]
     },
     "metadata": {},
     "output_type": "display_data"
    }
   ],
   "source": [
    "# -------------------------------------------------------------------\n",
    "# Second order wave equation (onda 1D): u_tt - c^2 u_xx = 0\n",
    "# -------------------------------------------------------------------\n",
    "wave_equation(∂2u_∂x2, ∂2u_∂t2, c) = ∂2u_∂t2 .- (c^2) .* ∂2u_∂x2\n",
    "\n",
    "```\n",
    "Residual at collocation points\n",
    "``` \n",
    "\n",
    "function residual_at_points_Dirichlet(input, NN, Θ, st)\n",
    "    x, t = input[1:1, :], input[2:2, :]\n",
    "    _, u_xx, u_tt = calculate_derivatives_Dirichlet(x, t, NN, Θ, st)\n",
    "    res = wave_equation(u_xx, u_tt, config[:c])\n",
    "    return vec(abs.(res |> cpu_device()))  # magnitud del residuo en CPU\n",
    "end\n",
    "\n",
    "\n",
    "# -------------------------------------------------------------------\n",
    "# Loss function with Dirichlet boundary conditions hard enforced.\n",
    "# -------------------------------------------------------------------\n",
    "\n",
    "function loss_function(input, NN, Θ, st)\n",
    "    res = residual_at_points_Dirichlet(input[1], NN, Θ, st)\n",
    "    #return NaNMath.log10(sum(abs2, res) / length(res))\n",
    "    return log10(sum(abs2, res) / length(res))\n",
    "end\n",
    "\n",
    "#=\n",
    "function loss_function(input, NN, Θ, st)\n",
    "    x, t = input[1:1, :], input[2:2, :]\n",
    "    _, u_xx, u_tt = calculate_derivatives_Dirichlet(x, t, NN, Θ, st)\n",
    "    res = wave_equation(u_xx, u_tt, config[:c])\n",
    "    #return NaNMath.log10(sum(abs2, res) / length(res))\n",
    "    return log10(sum(abs2, res) / length(res))\n",
    "end\n",
    "=#\n",
    "\n",
    "# -------------------------------------------------------------------\n",
    "# Callback\n",
    "# -------------------------------------------------------------------\n",
    "function callback(p, l, losses)\n",
    "    push!(losses, l)\n",
    "    println(\"Current loss: \", l)\n",
    "    return false\n",
    "end"
   ]
  },
  {
   "cell_type": "markdown",
   "id": "86dc3726",
   "metadata": {},
   "source": [
    "Initial data:"
   ]
  },
  {
   "cell_type": "code",
   "execution_count": 5,
   "id": "64e725e6",
   "metadata": {},
   "outputs": [
    {
     "data": {
      "text/plain": [
       "u1 (generic function with 1 method)"
      ]
     },
     "metadata": {},
     "output_type": "display_data"
    }
   ],
   "source": [
    "#This way it does not work on GPUS, so we define the function inside the other function\n",
    "#u0(x) = config[:A]*(x .- xmin).^4 .* (x .- xmax).^4 ./ ((xmax - xmin)/2)^8 # Initial condition\n",
    "#u1(x) = config[:B]*(x .- xmin).^4 .* (x .- xmax).^4 ./ ((xmax - xmin)/2)^8 # Initial condition for the time derivative\n",
    "\n",
    "@unpack xmin, xmax = config\n",
    "u0(x) = (x .- xmin).^4 .* (x .- xmax).^4 ./ ((xmax - xmin)/2)^8\n",
    "u1(x) = (x .- xmin).^3 .* (x .- xmax).^3 ./ ((xmax - xmin)/2)^8 .* (2x .- (xmax - xmin))"
   ]
  },
  {
   "cell_type": "code",
   "execution_count": 6,
   "id": "3bd6186e",
   "metadata": {},
   "outputs": [
    {
     "name": "stdout",
     "output_type": "stream",
     "text": [
      "Total params: 1341\n"
     ]
    },
    {
     "name": "stderr",
     "output_type": "stream",
     "text": [
      "┌ Warning: No functional GPU backend found! Defaulting to CPU.\n",
      "│ \n",
      "│ 1. If no GPU is available, nothing needs to be done. Set `MLDATADEVICES_SILENCE_WARN_NO_GPU=1` to silence this warning.\n",
      "│ 2. If GPU is available, load the corresponding trigger package.\n",
      "│     a. `CUDA.jl` and `cuDNN.jl` (or just `LuxCUDA.jl`) for  NVIDIA CUDA Support.\n",
      "│     b. `AMDGPU.jl` for AMD GPU ROCM Support.\n",
      "│     c. `Metal.jl` for Apple Metal GPU Support. (Experimental)\n",
      "│     d. `oneAPI.jl` for Intel oneAPI GPU Support. (Experimental)\n",
      "└ @ MLDataDevices.Internal /Users/reula/.julia/packages/MLDataDevices/NeohJ/src/internal.jl:112\n"
     ]
    },
    {
     "name": "stdout",
     "output_type": "stream",
     "text": [
      "typeof(input_total) = Vector{Array{Float64}}\n",
      "size(input_total) = (3,)\n"
     ]
    },
    {
     "data": {
      "text/plain": [
       "true"
      ]
     },
     "metadata": {},
     "output_type": "display_data"
    }
   ],
   "source": [
    "# -------------------------------------------------------------------\n",
    "# Entrenamiento\n",
    "# -------------------------------------------------------------------\n",
    "losses = Float64[]\n",
    "NN, Θ, st = create_neural_network(config)\n",
    "input = generate_input_x_t(config)\n",
    "input0 = generate_input0_x(config)\n",
    "input_bound = generate_input_boundary_x(config)\n",
    "input_total = [input, input0, input_bound]\n",
    "\n",
    "@show typeof(input_total) size(input_total)\n",
    "\n",
    "input_total[1] === input"
   ]
  },
  {
   "cell_type": "code",
   "execution_count": 7,
   "id": "e1217324",
   "metadata": {},
   "outputs": [
    {
     "data": {
      "text/plain": [
       "3-element Vector{Float64}:\n",
       " 0.0\n",
       " 0.0\n",
       " 0.0"
      ]
     },
     "metadata": {},
     "output_type": "display_data"
    }
   ],
   "source": [
    "input_total[2]"
   ]
  },
  {
   "cell_type": "code",
   "execution_count": 8,
   "id": "0082f2bb",
   "metadata": {},
   "outputs": [
    {
     "data": {
      "text/plain": [
       "3.4094659192855152"
      ]
     },
     "metadata": {},
     "output_type": "display_data"
    }
   ],
   "source": [
    "loss_function(input_total, NN, Θ, st)"
   ]
  },
  {
   "cell_type": "code",
   "execution_count": null,
   "id": "8dfcfa3d",
   "metadata": {},
   "outputs": [],
   "source": [
    "\n",
    "\n",
    "#calculate_Dirichlet_f(input[1:1, :], input[2:2, :], NN, Θ, st)\n",
    "#f, ∂2f_∂x2, ∂2f_∂t2 = calculate_derivatives_Dirichlet(input[1:1, :], input[2:2, :], NN, Θ, st)"
   ]
  },
  {
   "cell_type": "code",
   "execution_count": 51,
   "id": "02e6102c",
   "metadata": {},
   "outputs": [
    {
     "name": "stdout",
     "output_type": "stream",
     "text": [
      "Current loss: 3.4015428524120073"
     ]
    },
    {
     "name": "stderr",
     "output_type": "stream",
     "text": [
      "┌ Info: RAD round 1 / 20  |  iters=500\n",
      "└ @ Main /Users/reula/Julia/PINN/PINNS_codes/SimplePoissonPINN/jl_notebook_cell_df34fa98e69747e1a8f8a730347b8e2f_X20sZmlsZQ==.jl:13\n"
     ]
    },
    {
     "name": "stdout",
     "output_type": "stream",
     "text": [
      "\n",
      "Current loss: 3.3981067247896073\n",
      "Current loss: 3.396870473360334\n",
      "Current loss: 3.3945634181232345\n",
      "Current loss: 3.384222566157975\n",
      "Current loss: 3.361779691575747\n",
      "Current loss: 3.3469304995103895\n",
      "Current loss: 3.3278368505792066\n",
      "Current loss: 3.317218636224496\n",
      "Current loss: 3.259332824571138\n",
      "Current loss: 3.2483394073335203\n",
      "Current loss: 3.2269018977216364\n",
      "Current loss: 3.172723629836581\n",
      "Current loss: 3.0794784152751564\n",
      "Current loss: 2.9823266609307053\n",
      "Current loss: "
     ]
    },
    {
     "ename": "InterruptException",
     "evalue": "Error trying to display an error.",
     "output_type": "error",
     "traceback": [
      "Error trying to display an error."
     ]
    }
   ],
   "source": [
    "\n",
    "adaptive = true\n",
    "#adaptive = false\n",
    "\n",
    "if adaptive \n",
    "    # Configura las rondas adaptativas (ajusta a tu gusto)\n",
    "    nrounds = 20                # nº de rondas RAD\n",
    "    iters_per_round = 500       # iteraciones BFGS por ronda\n",
    "    #k1, k2 = 1.0, 1          # hiperparámetros RAD\n",
    "    Ntest = 200_000              # candidatos por ronda\n",
    "\n",
    "    for r in 1:nrounds\n",
    "        @info \"RAD round $r / $nrounds  |  iters=$iters_per_round\"\n",
    "        # Optimiza sobre el conjunto actual de colisión\n",
    "        optf   = OptimizationFunction((Θ, input) -> loss_function(input, NN, Θ, st), AutoZygote())\n",
    "        optprob = OptimizationProblem(optf, Θ, input)\n",
    "        optres  = solve(\n",
    "            optprob,\n",
    "            config[:optimizer];\n",
    "            callback = (p, l) -> callback(p, l, losses),\n",
    "            maxiters = iters_per_round,\n",
    "        )\n",
    "        Θ = optres.u  # continúa desde el óptimo de la ronda\n",
    "\n",
    "        # Re-muestrea puntos de colisión ponderando por residuo\n",
    "        input = adaptive_rad(NN, Θ, st, config; Ntest=Ntest, Nint=config[:N_points])#, k1=k1, k2=k2)\n",
    "    end\n",
    "\n",
    "else\n",
    "    @info \"Training with $(config[:N_points]) collocation points and $(config[:maxiters]) iterations\"\n",
    "\n",
    "    optf = OptimizationFunction((Θ, input) -> loss_function(input, NN, Θ, st), AutoZygote())\n",
    "    optprob = OptimizationProblem(optf, Θ, input)\n",
    "\n",
    "    optresult = solve(\n",
    "        optprob,\n",
    "        callback = (p, l) -> callback(p, l, losses),\n",
    "        config[:optimizer],\n",
    "        maxiters = config[:maxiters],\n",
    "    )\n",
    "\n",
    "    Θ = optresult.u\n",
    "\n",
    "    input = generate_input_t_x(config)  # reset input\n",
    "\n",
    "end\n",
    "\n",
    "# Parámetros optimizados a CPU si procede\n",
    "Θ = optresult.u |> cpu_device()\n",
    "\n",
    "\n"
   ]
  },
  {
   "cell_type": "code",
   "execution_count": null,
   "id": "e7dd8119",
   "metadata": {},
   "outputs": [
    {
     "name": "stderr",
     "output_type": "stream",
     "text": [
      "┌ Info: Normal training round 1 / 20  |  iters=500\n",
      "└ @ Main /Users/reula/Julia/PINN/neural_tools.jl:467\n"
     ]
    },
    {
     "name": "stdout",
     "output_type": "stream",
     "text": [
      "Current loss: 3.4094659192855152\n",
      "Current loss: 3.404601130913995\n",
      "Current loss: 3.3998334923671205\n",
      "Current loss: 3.395770435081597\n",
      "Current loss: 3.3567363081691863\n",
      "Current loss: 3.3530114625967586\n",
      "Current loss: 3.33952020697565\n",
      "Current loss: 3.324570511118808\n",
      "Current loss: 3.320174084401749\n",
      "Current loss: "
     ]
    }
   ],
   "source": [
    "Θ, st, losses = compute_solution_1d(config, input_total, NN, Θ, st)\n",
    "# Parámetros optimizados a CPU si procede\n",
    "Θ = optresult.u |> cpu_device()"
   ]
  },
  {
   "cell_type": "code",
   "execution_count": null,
   "id": "b76c2d54",
   "metadata": {},
   "outputs": [],
   "source": [
    "println(\"Training completed. Saving data\")\n",
    "@save \"wave_Dir_1.jld2\" config Θ st losses"
   ]
  },
  {
   "cell_type": "code",
   "execution_count": null,
   "id": "22e9e8d6",
   "metadata": {},
   "outputs": [],
   "source": [
    "plot(losses, label = \"Loss\", title = \"loss vs iterations\")\n"
   ]
  },
  {
   "cell_type": "code",
   "execution_count": null,
   "id": "fb73de9d",
   "metadata": {},
   "outputs": [],
   "source": [
    "\n",
    "t = 1.0/4\n",
    "xs = reshape(collect(range(config[:xmin], config[:xmax], length=200)), 1, :)\n",
    "t_fix = reshape(fill(t, length(xs)), 1, :)\n",
    "#sol_p = [calculate_Dirichlet_f(xs, t_fix, NN, Θ, st) for x in xs]\n",
    "sol_p = [calculate_Dirichlet_f(xs[:,i], t_fix[:,i], NN, Θ, st)[1] for i in 1:length(xs[1,:])]\n",
    "\n",
    "plot(xs[1,:],sol_p, label = \"t=$t\", title = \"solution\")\n",
    "#lines!(xs[1,:],bump.(xs[1,:], config[:x0], config[:x1], config[:p], config[:A]), label = \"initial condition\")\n",
    "plot!(xs[1,:],256*config[:A]*(xs[1,:] .- config[:xmin]).^4 .* (xs[1,:] .- config[:xmax]).^4, label = \"initial condition\", linestyle = :dash)     \n"
   ]
  },
  {
   "cell_type": "code",
   "execution_count": null,
   "id": "1a5109c0",
   "metadata": {},
   "outputs": [],
   "source": [
    "initad = [-config[:A]*(xs[1,i] .- config[:xmin]).^4 .* (xs[1,i] .- config[:xmax]).^4 for i in 1:length(xs[1,:])]\n",
    "S = maximum(-sol_p)/maximum(-initad)"
   ]
  },
  {
   "cell_type": "code",
   "execution_count": null,
   "id": "2a27d887",
   "metadata": {},
   "outputs": [],
   "source": [
    "ax = (title = \"solution\")\n",
    "t = 0.0\n",
    "xs = reshape(collect(range(config[:xmin], config[:xmax], length=200)), 1, :)\n",
    "t_fix = reshape(fill(t, length(xs)), 1, :)\n",
    "#sol_p = [calculate_Dirichlet_f(xs, t_fix, NN, Θ, st) for x in xs]\n",
    "sol_p = [calculate_Dirichlet_f(xs[:,i], t_fix[:,i], NN, Θ, st)[1] for i in 1:length(xs[1,:])]\n",
    "\n",
    "plot(xs[1,:],sol_p .+ (config[:A]*(xs[1,:] .+ config[:xmin]).^4 .* (xs[1,:] .- config[:xmax]).^4), label = \"t=0\")\n",
    "#plot!(xs[1,:],bump.(xs[1,:], config[:x0], config[:x1], config[:p], config[:A]), label = \"initial condition\")\n",
    "plot!(xs[1,:],sol_p .-config[:A]*(xs[1,:] .- config[:xmin]).^4 .* (xs[1,:] .- config[:xmax]).^4, label = \"initial condition\", linestyle = :dash)     "
   ]
  },
  {
   "cell_type": "markdown",
   "id": "14f6d8d5",
   "metadata": {},
   "source": [
    "**Save data:**"
   ]
  },
  {
   "cell_type": "code",
   "execution_count": null,
   "id": "07eab460",
   "metadata": {},
   "outputs": [],
   "source": [
    "#@save \"wave_dirichlet_1D_adaptive.jld2\" NN Θ st config losses\n",
    "@save \"wave_dirichlet_1D.jld2\" NN Θ st config losses"
   ]
  }
 ],
 "metadata": {
  "kernelspec": {
   "display_name": "Julia 1.11.7",
   "language": "julia",
   "name": "julia-1.11"
  },
  "language_info": {
   "file_extension": ".jl",
   "mimetype": "application/julia",
   "name": "julia",
   "version": "1.11.7"
  }
 },
 "nbformat": 4,
 "nbformat_minor": 5
}
