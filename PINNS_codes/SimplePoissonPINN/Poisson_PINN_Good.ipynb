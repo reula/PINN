{
 "cells": [
  {
   "cell_type": "code",
   "execution_count": 4,
   "id": "fcf9f03f",
   "metadata": {},
   "outputs": [
    {
     "ename": "ErrorException",
     "evalue": "failed to find source of parent package: \"Compat\"",
     "output_type": "error",
     "traceback": [
      "failed to find source of parent package: \"Compat\"\n",
      "\n",
      "Stacktrace:\n",
      "  [1] error(s::String)\n",
      "    @ Base ./error.jl:35\n",
      "  [2] explicit_manifest_uuid_path(project_file::String, pkg::Base.PkgId)\n",
      "    @ Base ./loading.jl:1029\n",
      "  [3] manifest_uuid_path(env::String, pkg::Base.PkgId)\n",
      "    @ Base ./loading.jl:730\n",
      "  [4] locate_package_env(pkg::Base.PkgId, stopenv::Nothing)\n",
      "    @ Base ./loading.jl:463\n",
      "  [5] locate_package(pkg::Base.PkgId, stopenv::Nothing)\n",
      "    @ Base ./loading.jl:510\n",
      "  [6] locate_package\n",
      "    @ ./loading.jl:510 [inlined]\n",
      "  [7] _precompilepkgs(pkgs::Vector{String}, internal_call::Bool, strict::Bool, warn_loaded::Bool, timing::Bool, _from_loading::Bool, configs::Vector{Pair{Cmd, Base.CacheFlags}}, io::IOContext{IO}, fancyprint::Bool, ignore_loaded::Bool)\n",
      "    @ Base.Precompilation ./precompilation.jl:878\n",
      "  [8] precompilepkgs(pkgs::Vector{String}; internal_call::Bool, strict::Bool, warn_loaded::Bool, timing::Bool, _from_loading::Bool, configs::Pair{Cmd, Base.CacheFlags}, io::VSCodeServer.IJuliaCore.IJuliaStdio{Base.PipeEndpoint, typeof(VSCodeServer.io_send_callback)}, fancyprint::Bool, ignore_loaded::Bool)\n",
      "    @ Base.Precompilation ./precompilation.jl:411\n",
      "  [9] _require(pkg::Base.PkgId, env::String)\n",
      "    @ Base ./loading.jl:2558\n",
      " [10] __require_prelocked(uuidkey::Base.PkgId, env::String)\n",
      "    @ Base ./loading.jl:2388\n",
      " [11] #invoke_in_world#3\n",
      "    @ ./essentials.jl:1089 [inlined]\n",
      " [12] invoke_in_world\n",
      "    @ ./essentials.jl:1086 [inlined]\n",
      " [13] _require_prelocked(uuidkey::Base.PkgId, env::String)\n",
      "    @ Base ./loading.jl:2375\n",
      " [14] macro expansion\n",
      "    @ ./loading.jl:2314 [inlined]\n",
      " [15] macro expansion\n",
      "    @ ./lock.jl:273 [inlined]\n",
      " [16] __require(into::Module, mod::Symbol)\n",
      "    @ Base ./loading.jl:2271\n",
      " [17] #invoke_in_world#3\n",
      "    @ ./essentials.jl:1089 [inlined]\n",
      " [18] invoke_in_world\n",
      "    @ ./essentials.jl:1086 [inlined]\n",
      " [19] require(into::Module, mod::Symbol)\n",
      "    @ Base ./loading.jl:2260\n",
      " [20] eval\n",
      "    @ ./boot.jl:430 [inlined]\n",
      " [21] include_string(mapexpr::typeof(REPL.softscope), mod::Module, code::String, filename::String)\n",
      "    @ Base ./loading.jl:2734\n",
      " [22] #invokelatest#2\n",
      "    @ ./essentials.jl:1055 [inlined]\n",
      " [23] invokelatest\n",
      "    @ ./essentials.jl:1052 [inlined]\n",
      " [24] (::VSCodeServer.var\"#217#218\"{VSCodeServer.NotebookRunCellArguments, String})()\n",
      "    @ VSCodeServer ~/.vscode/extensions/julialang.language-julia-1.149.2/scripts/packages/VSCodeServer/src/serve_notebook.jl:24\n",
      " [25] withpath(f::VSCodeServer.var\"#217#218\"{VSCodeServer.NotebookRunCellArguments, String}, path::String)\n",
      "    @ VSCodeServer ~/.vscode/extensions/julialang.language-julia-1.149.2/scripts/packages/VSCodeServer/src/repl.jl:276\n",
      " [26] notebook_runcell_request(conn::VSCodeServer.JSONRPC.JSONRPCEndpoint{Base.PipeEndpoint, Base.PipeEndpoint, VSCodeServer.JSON.Serializations.StandardSerialization}, params::VSCodeServer.NotebookRunCellArguments, token::VSCodeServer.CancellationTokens.CancellationToken)\n",
      "    @ VSCodeServer ~/.vscode/extensions/julialang.language-julia-1.149.2/scripts/packages/VSCodeServer/src/serve_notebook.jl:13\n",
      " [27] dispatch_msg(x::VSCodeServer.JSONRPC.JSONRPCEndpoint{Base.PipeEndpoint, Base.PipeEndpoint, VSCodeServer.JSON.Serializations.StandardSerialization}, dispatcher::VSCodeServer.JSONRPC.MsgDispatcher, msg::VSCodeServer.JSONRPC.Request)\n",
      "    @ VSCodeServer.JSONRPC ~/.vscode/extensions/julialang.language-julia-1.149.2/scripts/packages/JSONRPC/src/typed.jl:68\n",
      " [28] serve_notebook(pipename::String, debugger_pipename::String, outputchannel_logger::Base.CoreLogging.SimpleLogger; error_handler::var\"#5#10\"{String})\n",
      "    @ VSCodeServer ~/.vscode/extensions/julialang.language-julia-1.149.2/scripts/packages/VSCodeServer/src/serve_notebook.jl:147\n",
      " [29] top-level scope\n",
      "    @ ~/.vscode/extensions/julialang.language-julia-1.149.2/scripts/notebook/notebook.jl:35"
     ]
    }
   ],
   "source": [
    "using ComponentArrays\n",
    "#using Distributions\n",
    "#using GLMakie\n",
    "#using Lux\n",
    "#using LuxCUDA\n",
    "#using OptimizationOptimJL\n",
    "#using Random\n",
    "#using UnPack\n",
    "#using Zygote\n",
    "#using CairoMakie  # Backend que funciona en notebooks\n",
    "#using StatsBase"
   ]
  }
 ],
 "metadata": {
  "kernelspec": {
   "display_name": "Julia 1.11.7",
   "language": "julia",
   "name": "julia-1.11"
  },
  "language_info": {
   "file_extension": ".jl",
   "mimetype": "application/julia",
   "name": "julia",
   "version": "1.11.7"
  }
 },
 "nbformat": 4,
 "nbformat_minor": 5
}
