{
 "cells": [
  {
   "cell_type": "markdown",
   "id": "d3870179",
   "metadata": {},
   "source": [
    "# Wave with periodic bc with the scheme from Palma\n",
    "\n",
    "We solve the wave equation with Dirichlet boundary conditions (homogeneous) up to $T = 2L$ where $L$ is the space size of the integrating region. The data is reflection symmetric, $u_0(x) = u_0(L-x)$, $\\partial_t u(x,t=0) = 0$. This way at the last point the solution repeats itself and we can measure the error very well."
   ]
  },
  {
   "cell_type": "code",
   "execution_count": null,
   "id": "8b96c884",
   "metadata": {},
   "outputs": [],
   "source": [
    "using ComponentArrays\n",
    "using Distributions\n",
    "using WGLMakie\n",
    "using Lux\n",
    "using LuxCUDA\n",
    "using OptimizationOptimJL\n",
    "using Random\n",
    "using UnPack\n",
    "using Zygote\n",
    "using CairoMakie  # Backend que funciona en notebooks\n",
    "using StatsBase\n",
    "using Revise\n",
    "import NaNMath\n",
    "\n"
   ]
  },
  {
   "cell_type": "markdown",
   "id": "72174904",
   "metadata": {},
   "source": [
    "I put some functions here."
   ]
  },
  {
   "cell_type": "code",
   "execution_count": null,
   "id": "2b9bc019",
   "metadata": {},
   "outputs": [],
   "source": [
    "includet(\"neural_tools.jl\")"
   ]
  },
  {
   "cell_type": "code",
   "execution_count": null,
   "id": "92e0ac49",
   "metadata": {},
   "outputs": [],
   "source": [
    "@load \"wave_Dir_1.jld2\" config domains wave_equation depvars θ st loss"
   ]
  },
  {
   "cell_type": "code",
   "execution_count": null,
   "id": "72ecacfd",
   "metadata": {},
   "outputs": [],
   "source": [
    "# -------------------------------------------------------------------\n",
    "# Second order wave equation (onda 1D): u_tt - c^2 u_xx = 0\n",
    "# -------------------------------------------------------------------\n",
    "#wave_equation(∂2u_∂x2, ∂2u_∂t2, c) = ∂2u_∂t2 .- (c^2) .* ∂2u_∂x2"
   ]
  },
  {
   "cell_type": "code",
   "execution_count": null,
   "id": "22e9e8d6",
   "metadata": {},
   "outputs": [],
   "source": [
    "ax = (title = \"loss vs iterations\")\n",
    "fig, ax = lines(losses, label = \"Loss\")\n",
    "axislegend()\n",
    "fig"
   ]
  },
  {
   "cell_type": "code",
   "execution_count": null,
   "id": "fb73de9d",
   "metadata": {},
   "outputs": [],
   "source": [
    "ax = (title = \"solution\")\n",
    "t = 10.0\n",
    "xs = reshape(collect(range(config[:xmin], config[:xmax], length=200)), 1, :)\n",
    "t_fix = reshape(fill(t, length(xs)), 1, :)\n",
    "#sol_p = [calculate_Dirichlet_f(xs, t_fix, NN, Θ, st) for x in xs]\n",
    "sol_p = [calculate_Dirichlet_f(xs[:,i], t_fix[:,i], NN, Θ, st)[1] for i in 1:length(xs[1,:])]\n",
    "\n",
    "#xs[1,1]\n",
    "fig, ax = lines(xs[1,:],sol_p, label = \"t=0\")\n",
    "#lines!(xs[1,:],bump.(xs[1,:], config[:x0], config[:x1], config[:p], config[:A]), label = \"initial condition\")\n",
    "lines!(xs[1,:],-S*config[:A]*(xs[1,:] .- config[:xmin]).^4 .* (xs[1,:] .- config[:xmax]).^4, label = \"initial condition\", linestyle = :dash)     \n",
    "axislegend()\n",
    "fig"
   ]
  },
  {
   "cell_type": "code",
   "execution_count": null,
   "id": "1a5109c0",
   "metadata": {},
   "outputs": [],
   "source": [
    "initad = [-config[:A]*(xs[1,i] .- config[:xmin]).^4 .* (xs[1,i] .- config[:xmax]).^4 for i in 1:length(xs[1,:])]\n",
    "S = maximum(-sol_p)/maximum(-initad)"
   ]
  },
  {
   "cell_type": "code",
   "execution_count": null,
   "id": "2a27d887",
   "metadata": {},
   "outputs": [],
   "source": [
    "ax = (title = \"solution\")\n",
    "t = 0.0\n",
    "xs = reshape(collect(range(config[:xmin], config[:xmax], length=200)), 1, :)\n",
    "t_fix = reshape(fill(t, length(xs)), 1, :)\n",
    "#sol_p = [calculate_Dirichlet_f(xs, t_fix, NN, Θ, st) for x in xs]\n",
    "sol_p = [calculate_Dirichlet_f(xs[:,i], t_fix[:,i], NN, Θ, st)[1] for i in 1:length(xs[1,:])]\n",
    "\n",
    "fig, ax = lines(xs[1,:],sol_p .+ S*(config[:A]*(xs[1,:] .+ config[:xmin]).^4 .* (xs[1,:] .- config[:xmax]).^4), label = \"t=0\")\n",
    "#lines!(xs[1,:],bump.(xs[1,:], config[:x0], config[:x1], config[:p], config[:A]), label = \"initial condition\")\n",
    "#lines!(xs[1,:],sol_p .-config[:A]*(xs[1,:] .- config[:xmin]).^4 .* (xs[1,:] .- config[:xmax]).^4, label = \"initial condition\", linestyle = :dash)     \n",
    "axislegend()\n",
    "fig"
   ]
  }
 ],
 "metadata": {
  "kernelspec": {
   "display_name": "Julia 1.11.7",
   "language": "julia",
   "name": "julia-1.11"
  },
  "language_info": {
   "file_extension": ".jl",
   "mimetype": "application/julia",
   "name": "julia",
   "version": "1.11.7"
  }
 },
 "nbformat": 4,
 "nbformat_minor": 5
}
