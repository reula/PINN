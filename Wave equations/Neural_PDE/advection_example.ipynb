{
 "cells": [
  {
   "cell_type": "markdown",
   "id": "006ba2f2",
   "metadata": {},
   "source": [
    "# 1D Wave Equation with Dirichlet boundary conditions\n",
    "\n",
    "### From the wave example in NeuralPDE\n",
    "\n",
    "Let's solve this 1-dimensional wave or advection equation: with initial conditions $u(x,0) = x(1-x)$\n",
    "\n",
    "```math\n",
    "\\begin{align*}\n",
    "∂_t u(x, t) = c ∂_x u(x, t) \\quad & \\textsf{for all } 0 < x < 1 \\text{ and } t > 0 \\, , \\\\\n",
    "u(x, 0) = x (1-x)     \\quad & \\textsf{for all } 0 < x < 1 \\, , \\\\\n",
    "\\end{align*}\n",
    "```\n",
    "We try some boundary conditions to see whether ir works ok, and what one gets with wrong boundary values.\n",
    "with grid discretization `dx = 0.1` and physics-informed neural networks.\n",
    "With boundary conditions in both sides\n",
    "(a problem ill posed)\n",
    "```math\n",
    "u(0, t) = u(1, t) = 0 \\quad  \\textsf{for all } t > 0 \\, ,\n",
    "```\n",
    "It converges to something it is not a solution.\n",
    "\n",
    "With \n",
    "```math\n",
    "u(0, t) = 0 \\quad  \\textsf{for all } t > 0 \\, ,\n",
    "```\n",
    "we get the correct solution.\n",
    "\n",
    "With \n",
    "```math\n",
    "u(1, t) = 0 \\quad  \\textsf{for all } t > 0 \\, ,\n",
    "```\n",
    "\n",
    "Also converges to something that is not a solution. So one should be worried that in complex situations one does not get into something which is not a solution and nevertheless the lost function is very small. "
   ]
  },
  {
   "cell_type": "markdown",
   "id": "eb82e195",
   "metadata": {},
   "source": [
    "With this example we look at several things:\n",
    "\n",
    "1. Convergence vs. loss function \n",
    "2. Convergence vs. different sampling strategies. \n",
    "3. long time Convergence\n",
    "4. efect of wrong boundary conditions.\n",
    "5. smoothness? \n"
   ]
  },
  {
   "cell_type": "code",
   "execution_count": null,
   "id": "5e404a56",
   "metadata": {},
   "outputs": [],
   "source": [
    "using NeuralPDE, Lux, Optimization, OptimizationOptimJL\n",
    "using ModelingToolkit, IntervalSets \n",
    "using IntervalSets\n",
    "using Plots, Printf\n",
    "\n",
    "@parameters t, x\n",
    "@variables u(..)\n",
    "Dx = Differential(x)\n",
    "Dt = Differential(t)\n"
   ]
  },
  {
   "cell_type": "code",
   "execution_count": null,
   "id": "46e1a9ad",
   "metadata": {},
   "outputs": [],
   "source": [
    "\n",
    "#2D PDE\n",
    "C = 1\n",
    "eq = Dt(u(t, x)) ~ C * Dx(u(t, x))\n",
    "\n"
   ]
  },
  {
   "cell_type": "code",
   "execution_count": null,
   "id": "b44e185c",
   "metadata": {},
   "outputs": [],
   "source": [
    "tf = 2.0\n",
    "# Space and time domains\n",
    "@show domains = [t ∈ Interval(0.0, tf),\n",
    "    x ∈ Interval(0.0, 1.0)]\n",
    "# Discretization\n",
    "dx = 0.005\n"
   ]
  },
  {
   "cell_type": "code",
   "execution_count": null,
   "id": "cbe10fe0",
   "metadata": {},
   "outputs": [],
   "source": [
    "\n",
    "\n",
    "# Initial and boundary conditions\n",
    "\n",
    "boundary_conditions = true\n",
    "correct_bc = true\n",
    "incorrect_bc_1 = false\n",
    "incorrect_bc_2 = false\n",
    "\n",
    "if incorrect_bc_1\n",
    "    bcs = [u(t, 0) ~ 0.0,# for all t > 0\n",
    "    u(t, 1) ~ 0.0,# for all t > 0\n",
    "    u(0, x) ~ x * (1.0 - x)] #for all 0 < x < 1\n",
    "elseif incorrect_bc_2\n",
    "    bcs = [u(t, 0) ~ 0.0,# for all t > 0\n",
    "    u(0, x) ~ x * (1.0 - x)] #for all 0 < x < 1\n",
    "elseif correct_bc\n",
    "bcs = [u(t, 1) ~ 0.0,# for all t > 0\n",
    "    #u(0, x) ~ x * (1.0 - x)] #for all 0 < x < 1\n",
    "    u(0, x) ~ sin(16*π*x)]\n",
    "end"
   ]
  },
  {
   "cell_type": "code",
   "execution_count": null,
   "id": "08a172a4",
   "metadata": {},
   "outputs": [],
   "source": [
    "\n",
    "# Neural network\n",
    "chain = Chain(Dense(2, 16, σ), Dense(16, 16, σ), Dense(16, 1))\n",
    "\n",
    "# Discretization\n",
    "different_samplings = true\n",
    "\n",
    "\n",
    "points = 30_000\n",
    "bcs_points = 5_000\n",
    "\n",
    "\n",
    "#strategy = GridTraining(dx)\n",
    "#strategy = NeuralPDE.StochasticTraining(points, bcs_points = bcs_points)\n",
    "# #=\n",
    "strategy = NeuralPDE.QuasiRandomTraining(points, bcs_points = points,\n",
    "                            sampling_alg = NeuralPDE.LatinHypercubeSample(), resampling = true,\n",
    "                            minibatch = 100)\n",
    "# =#\n",
    "discretization = PhysicsInformedNN(chain, strategy)\n",
    "\n",
    "NonAdaptiveLoss(; pde_loss_weights = 1.0,\n",
    "                  bc_loss_weights = 100.0,\n",
    "                  additional_loss_weights = 1.0)\n",
    "                  \n",
    "@named pde_system = PDESystem(eq, bcs, domains, [t, x], [u(t, x)])\n",
    "prob = discretize(pde_system, discretization)\n",
    "\n",
    "loss = []\n",
    "callback = function (p, l)\n",
    "    println(\"Current loss is: $l\")\n",
    "    push!(loss, l)\n",
    "    return false\n",
    "end"
   ]
  },
  {
   "cell_type": "code",
   "execution_count": null,
   "id": "ffaf1a22",
   "metadata": {},
   "outputs": [],
   "source": [
    "\n",
    "# optimizer\n",
    "#opt = OptimizationOptimJL.BFGS()\n",
    "opt = OptimizationOptimJL.SSBroyden()\n",
    "res = Optimization.solve(prob, opt; callback, maxiters = 2000)\n",
    "phi = discretization.phi\n",
    "\n",
    "\n"
   ]
  },
  {
   "cell_type": "code",
   "execution_count": null,
   "id": "90b722aa",
   "metadata": {},
   "outputs": [],
   "source": [
    "plot(loss, yscale=:log10)"
   ]
  },
  {
   "cell_type": "code",
   "execution_count": null,
   "id": "3fbd5b15",
   "metadata": {},
   "outputs": [],
   "source": [
    "if boundary_conditions \n",
    "    if correct_bc\n",
    "        loss_correct = copy(loss)\n",
    "    elseif incorrect_bc_1\n",
    "        loss_incorrect_1 = copy(loss)\n",
    "    elseif incorrect_bc_2\n",
    "        loss_incorrect_2 = copy(loss)\n",
    "    end\n",
    "end\n",
    "\n",
    "if different_samplings\n",
    "    if strategy isa NeuralPDE.QuasiRandomTraining\n",
    "        if batch == 50\n",
    "            loss_QR50 = copy(loss)\n",
    "        elseif batch == 100\n",
    "            loss_QR100 = copy(loss)\n",
    "        end\n",
    "    elseif strategy isa NeuralPDE.GridTraining\n",
    "        loss_GT = []\n",
    "    end\n",
    "end \n",
    "\n",
    "\n",
    "\n",
    "\n"
   ]
  },
  {
   "cell_type": "code",
   "execution_count": null,
   "id": "642fa3ab",
   "metadata": {},
   "outputs": [],
   "source": [
    "#=\n",
    "plot(log10.(loss_QR50),label=\"QuasiRandom, 20000, 300, MB=50\", title=\"Different sampling methods\")\n",
    "plot!(log10.(loss_QR100),label=\"QuasiRandom, 20000, 300, MB=100\")\n",
    "plot!(log10.(loss_GT),label=\"Grid, dx=0.1\")\n",
    "#savefig(\"advection_loss_strategies_comparison.png\")\n",
    "=#"
   ]
  },
  {
   "cell_type": "code",
   "execution_count": null,
   "id": "e2087462",
   "metadata": {},
   "outputs": [],
   "source": [
    "plot(log10.(loss_correct),label=\"correct bc\")\n",
    "#plot(log10.(loss_incorrect), label=\"incorrect bc\")\n",
    "#savefig(\"loss_advection_bc.png\")"
   ]
  },
  {
   "cell_type": "markdown",
   "id": "29a4aaf4",
   "metadata": {},
   "source": [
    "![loss for different boundary conditions](loss_advection_bc.png)"
   ]
  },
  {
   "cell_type": "code",
   "execution_count": null,
   "id": "18758373",
   "metadata": {},
   "outputs": [],
   "source": [
    "\n",
    "#ts, xs = [infimum(d.domain):dx:supremum(d.domain) for d in domains]\n",
    "ts = collect(0.0:dx:tf)\n",
    "xs = collect(0.0:dx:1.0)\n",
    "function analytic_sol_func(t, x)\n",
    "    #=\n",
    "    v = (x+t)*(1 - (x+t))\n",
    "    if v >= 0\n",
    "        return v\n",
    "    else\n",
    "        return 0\n",
    "    end\n",
    "    =#\n",
    "    if x + t <= 1\n",
    "        return    sin(16*π*(x+t))\n",
    "    else \n",
    "        return 0\n",
    "    end\n",
    "end\n"
   ]
  },
  {
   "cell_type": "code",
   "execution_count": null,
   "id": "db0038fe",
   "metadata": {},
   "outputs": [],
   "source": [
    "\n",
    "u_predict = reshape([first(phi([t, x], res.u)) for x in xs for t in ts],\n",
    "    (length(ts), length(xs)))\n",
    "u_real = reshape([analytic_sol_func(t, x) for x in xs for t in ts],\n",
    "    (length(ts), length(xs)))\n",
    "\n",
    "diff_u = abs.(u_predict .- u_real)\n",
    "\n",
    "p1 = plot(xs, ts, u_real, linetype = :contourf, title = \"analytic\", aspectratio=1);\n",
    "p2 = plot(xs, ts, u_predict, linetype = :contourf, title = \"predict\", aspectratio=1);\n",
    "p3 = plot(xs, ts, diff_u, linetype = :contourf, title = \"error\");\n",
    "plot(p1, p2, p3)\n"
   ]
  },
  {
   "cell_type": "code",
   "execution_count": null,
   "id": "b2c2cc60",
   "metadata": {},
   "outputs": [],
   "source": [
    "#plot(xs,u_real[50::])\n",
    "heatmap(xs, ts, u_real, title = \"analytic\", aspectratio=1)"
   ]
  },
  {
   "cell_type": "code",
   "execution_count": null,
   "id": "fd4ae75e",
   "metadata": {},
   "outputs": [],
   "source": [
    "t = 0.0\n",
    "sol_p = [first(phi([t, x], res.u)) for x in xs]\n",
    "plot(xs,sol_p)\n",
    "scatter!(xs,sol_p)"
   ]
  },
  {
   "cell_type": "code",
   "execution_count": null,
   "id": "b149e282",
   "metadata": {},
   "outputs": [],
   "source": [
    "anim = @animate for t in ts\n",
    "    @info \"Time $t...\"\n",
    "    sol_p = [first(phi([t, x], res.u)) for x in xs]\n",
    "    plot(ylims = [-0.1, 0.6])\n",
    "    title = @sprintf(\"t = %.3f\", t) \n",
    "    plot!(xs,sol_p, label=\"predicted\", title=title)\n",
    "end\n",
    "gif(anim, \"advection.gif\", fps = 200)\n"
   ]
  }
 ],
 "metadata": {
  "kernelspec": {
   "display_name": "Julia 1.11.7",
   "language": "julia",
   "name": "julia-1.11"
  },
  "language_info": {
   "file_extension": ".jl",
   "mimetype": "application/julia",
   "name": "julia",
   "version": "1.11.7"
  }
 },
 "nbformat": 4,
 "nbformat_minor": 5
}
