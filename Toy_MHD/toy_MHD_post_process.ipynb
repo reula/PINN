{
 "cells": [
  {
   "cell_type": "code",
   "execution_count": null,
   "id": "41d6fb38",
   "metadata": {},
   "outputs": [],
   "source": [
    "using NeuralPDE, Optimization, OptimizationOptimJL, Roots,\n",
    "      LineSearches\n",
    "using ModelingToolkit, IntervalSets \n",
    "using IntervalSets\n",
    "using Plots, Printf\n",
    "using Lux, LuxCUDA, ComponentArrays, Random\n",
    "using JLD2, LinearAlgebra "
   ]
  },
  {
   "cell_type": "code",
   "execution_count": null,
   "id": "da3feeda",
   "metadata": {},
   "outputs": [],
   "source": [
    "@parameters t, x, y\n",
    "@variables B1(..), B2(..)\n",
    "Dx = Differential(x)\n",
    "Dy = Differential(y)\n",
    "Dt = Differential(t)\n",
    "\n"
   ]
  },
  {
   "cell_type": "code",
   "execution_count": null,
   "id": "22e5fd9a",
   "metadata": {},
   "outputs": [],
   "source": [
    "#@load \"toy_MHD_2D.jld2\" config domains eqs bcs depvars loss res.u \n",
    "@load \"toy_MHD_2D.jld2\" config domains eqs bcs loss resu\n"
   ]
  },
  {
   "cell_type": "code",
   "execution_count": null,
   "id": "6a0db56e",
   "metadata": {},
   "outputs": [],
   "source": [
    "# Neural network\n",
    "input_ = length(domains)\n",
    "n = config[:N_neurons]\n",
    "#chain = [Chain(Dense(input_, n, σ), Dense(n, n, σ), Dense(n, 1)) for _ in 1:2] #this work without GPU\n",
    "#chain = Chain(Dense(input_, n, σ), Dense(n, n, σ), Dense(n, 2))\n",
    "chain = Chain(Dense(input_, n, σ), Dense(n, n, σ), Dense(n, n, σ), Dense(n, 2))\n",
    "\n",
    "#strategy = QuadratureTraining()\n",
    "strategy = QuasiRandomTraining(100)\n",
    "#strategy = GridTraining(config[:dx])\n",
    "#ps = Lux.setup(Random.default_rng(), chain)[1] \n",
    "#ps = ps |> ComponentArray |> gpud\n",
    "discretization = PhysicsInformedNN(chain, strategy) #; init_params = ps)\n",
    "phi_d = discretization.phi"
   ]
  },
  {
   "cell_type": "code",
   "execution_count": null,
   "id": "9d9f36c9",
   "metadata": {},
   "outputs": [],
   "source": [
    "plot(log10.(loss))"
   ]
  },
  {
   "cell_type": "code",
   "execution_count": null,
   "id": "f34dac56",
   "metadata": {},
   "outputs": [],
   "source": [
    "xs, ys = [0.0:0.01:1.0 for d in 1:2]\n",
    "t_p = config[:tmax]\n",
    "u_predict = [[Array(phi_d([t_p, x, y], resu))[i] for x in xs for y in ys] for i in 1:2]\n",
    "\n",
    "ps = []\n",
    "for i in 1:2\n",
    "    p1 = plot(xs, ys, u_predict[:,:][i], \n",
    "        linetype = :contourf, \n",
    "        #st = :surface,\n",
    "        title = \"predict B$i\", aspect_ratio = 1)\n",
    "    push!(ps, p1)\n",
    "end\n",
    "\n",
    "plot(ps[1], ps[2], layout = (1,2))"
   ]
  },
  {
   "cell_type": "code",
   "execution_count": null,
   "id": "ac9e60f5",
   "metadata": {},
   "outputs": [],
   "source": [
    "function plot_(phi_d, resu)\n",
    "    # Animate\n",
    "    anim = @animate for (i, t_p) in enumerate(0:0.05:config[:tmax])\n",
    "        @info \"Animating frame $i...\"\n",
    "        B1_approx = [Array(phi_d([t_p, x, y], resu))[1] for x in xs for y in ys]\n",
    "        B2_approx = [Array(phi_d([t_p, x, y], resu))[2] for x in xs for y in ys]\n",
    "        title = @sprintf(\"B1, t = %.3f\", t_p)\n",
    "        p1 = plot(xs, ys, B1_approx, st = :surface, label = \"B1\", title = title)\n",
    "        title = @sprintf(\"B2, t = %.3f\", t_p)\n",
    "        p2 = plot(xs, ys, B2_approx, st = :surface, label = \"B2\", title = title)\n",
    "        plot(p1, p2)\n",
    "    end\n",
    "    gif(anim, \"Toy_MHD_pde.gif\", fps = 10)\n",
    "end\n",
    "\n",
    "plot_(phi_d, resu)"
   ]
  }
 ],
 "metadata": {
  "kernelspec": {
   "display_name": "Julia 1.11.7",
   "language": "julia",
   "name": "julia-1.11"
  },
  "language_info": {
   "file_extension": ".jl",
   "mimetype": "application/julia",
   "name": "julia",
   "version": "1.11.7"
  }
 },
 "nbformat": 4,
 "nbformat_minor": 5
}
