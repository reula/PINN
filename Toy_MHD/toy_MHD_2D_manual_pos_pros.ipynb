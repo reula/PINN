{
 "cells": [
  {
   "cell_type": "markdown",
   "id": "e6ee9900",
   "metadata": {},
   "source": [
    "## We solve the MHD toy model with PINN\n",
    "\n",
    "### The evolution equations are:\n",
    "\n",
    "$$\n",
    "\\partial_t B^i = \\nabla_j (v^j B^i - v^i B^j) \\;\\;\\;\\; \\nabla_i B^i = 0\n",
    "$$\n",
    "\n",
    "The vector field $v^i$ is given. \n",
    "\n",
    "And we impose Dirichlet boundary conditions.\n",
    "\n",
    "The initial data is: \n",
    "\n",
    "\\begin{align*}\n",
    "B_1 &= \\partial_y \\phi \\\\\n",
    "B_2 &= -\\partial_x \\phi\n",
    "\\end{align*}\n",
    "with (here we use xmin=0, xmax = 1, same for y)\n",
    "\n",
    "$$\n",
    "\\phi(x,y) = (x*(x-1)*y*(y-1))^2\n",
    "$$\n",
    "\n",
    "The velocity field is time-independent and given by:\n",
    "\n",
    "\\begin{align*}\n",
    "v1(t,x,y) &= \\sin(\\pi*x)*\\cos(\\pi*y) \\\\\n",
    "v2(t,x,y) &= \\cos(\\pi*x)*\\sin(\\pi*y) \\\\\n",
    "\\end{align*}\n",
    "\n"
   ]
  },
  {
   "cell_type": "code",
   "execution_count": null,
   "id": "0b17662d",
   "metadata": {},
   "outputs": [],
   "source": [
    "#import Pkg\n",
    "#Pkg.add(url=\"https://github.com/psy3nt1st/Optim.jl.git\")\n",
    "using Optim\n",
    "#using NeuralPDE\n",
    "#using Optimization\n",
    "using OptimizationOptimJL\n",
    "using Roots\n",
    "using LineSearches\n",
    "using ModelingToolkit, IntervalSets \n",
    "using IntervalSets\n",
    "using Plots, Printf\n",
    "using Lux, LuxCUDA, ComponentArrays, Random\n",
    "using JLD2, LinearAlgebra \n",
    "using Revise\n",
    "using Distributions\n",
    "using Zygote\n",
    "\n",
    "const gpud = gpu_device()\n",
    "\n",
    "includet(\"../neural_tools.jl\")"
   ]
  },
  {
   "cell_type": "code",
   "execution_count": null,
   "id": "132f5ac6",
   "metadata": {},
   "outputs": [],
   "source": [
    "@load \"toy_MHD_2D_Man.jld2\" config Θ st losses\n",
    "\n",
    "NN = create_chain(config)"
   ]
  },
  {
   "cell_type": "code",
   "execution_count": null,
   "id": "1be672fa",
   "metadata": {},
   "outputs": [],
   "source": [
    "plot(losses)"
   ]
  },
  {
   "cell_type": "code",
   "execution_count": null,
   "id": "4bfb184b",
   "metadata": {},
   "outputs": [],
   "source": [
    "@unpack xmin, xmax, ymin, ymax, tmin, tmax = config\n",
    "xs = collect(xmin:0.01:xmax)\n",
    "ys = collect(ymin:0.01:ymax);\n"
   ]
  },
  {
   "cell_type": "code",
   "execution_count": null,
   "id": "49288a0f",
   "metadata": {},
   "outputs": [],
   "source": [
    "t = 0.0\n",
    "B1_approx = [NN(vcat(t, x, y), Θ, st)[1][1] for x in xs, y in ys]\n",
    "B2_approx = [NN(vcat(t, x, y), Θ, st)[1][2] for x in xs, y in ys]\n",
    "p1 = plot(ys, xs, B1_approx, \n",
    "        linetype = :contourf, \n",
    "        #st = :surface,\n",
    "        title = \"predict B1\", aspect_ratio = 1)\n",
    "p2 = plot(ys, xs, B2_approx, \n",
    "        linetype = :contourf, \n",
    "        #st = :surface,\n",
    "        title = \"predict B2\", aspect_ratio = 1)\n",
    "ps = [p1, p2]\n",
    "plot(ps..., layout = (1,2), size = (900,400))\n"
   ]
  }
 ],
 "metadata": {
  "kernelspec": {
   "display_name": "Julia 1.11.7",
   "language": "julia",
   "name": "julia-1.11"
  },
  "language_info": {
   "file_extension": ".jl",
   "mimetype": "application/julia",
   "name": "julia",
   "version": "1.11.7"
  }
 },
 "nbformat": 4,
 "nbformat_minor": 5
}
