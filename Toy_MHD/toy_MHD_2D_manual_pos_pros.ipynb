{
 "cells": [
  {
   "cell_type": "markdown",
   "id": "e6ee9900",
   "metadata": {},
   "source": [
    "## We solve the MHD toy model with PINN\n",
    "\n",
    "### The evolution equations are:\n",
    "\n",
    "$$\n",
    "\\partial_t B^i = \\nabla_j (v^j B^i - v^i B^j) \\;\\;\\;\\; \\nabla_i B^i = 0\n",
    "$$\n",
    "\n",
    "The vector field $v^i$ is given. \n",
    "\n",
    "And we impose Dirichlet boundary conditions.\n",
    "\n",
    "The initial data is: \n",
    "\n",
    "\\begin{align*}\n",
    "B_1 &= \\partial_y \\phi \\\\\n",
    "B_2 &= -\\partial_x \\phi\n",
    "\\end{align*}\n",
    "with (here we use xmin=0, xmax = 1, same for y)\n",
    "\n",
    "$$\n",
    "\\phi(x,y) = (x*(x-1)*y*(y-1))^2\n",
    "$$\n",
    "\n",
    "The velocity field is time-independent and given by:\n",
    "\n",
    "\\begin{align*}\n",
    "v1(t,x,y) &= \\sin(\\pi*x)*\\cos(\\pi*y) \\\\\n",
    "v2(t,x,y) &= \\cos(\\pi*x)*\\sin(\\pi*y) \\\\\n",
    "\\end{align*}\n",
    "\n"
   ]
  },
  {
   "cell_type": "code",
   "execution_count": null,
   "id": "0b17662d",
   "metadata": {},
   "outputs": [],
   "source": [
    "#import Pkg\n",
    "#Pkg.add(url=\"https://github.com/psy3nt1st/Optim.jl.git\")\n",
    "using Optim\n",
    "#using NeuralPDE\n",
    "#using Optimization\n",
    "using OptimizationOptimJL\n",
    "using Roots\n",
    "using LineSearches\n",
    "using ModelingToolkit, IntervalSets \n",
    "using IntervalSets\n",
    "using Plots, Printf\n",
    "using Lux, LuxCUDA, ComponentArrays, Random\n",
    "using JLD2, LinearAlgebra \n",
    "using Revise\n",
    "using Distributions\n",
    "using Zygote\n",
    "\n",
    "const gpud = gpu_device()\n",
    "\n",
    "includet(\"../neural_tools.jl\")"
   ]
  },
  {
   "cell_type": "code",
   "execution_count": null,
   "id": "132f5ac6",
   "metadata": {},
   "outputs": [],
   "source": [
    "#@load \"toy_MHD_2D_Man_Ada.jld2\" config res st losses\n",
    "\n",
    "#@load \"toy_MHD_2D_Man.jld2\" config res st losses\n",
    "\n",
    "@load \"toy_MHD_2D_Man_comp.jld2\" config res st losses\n",
    "\n",
    "NN = create_chain(config)\n",
    "\n",
    "@show config\n",
    "\n",
    "config[:method]\n"
   ]
  },
  {
   "cell_type": "code",
   "execution_count": null,
   "id": "1be672fa",
   "metadata": {},
   "outputs": [],
   "source": [
    "plot(losses, \n",
    "    #yscale=:log10, \n",
    "    label=\"loss\", title=\"Loss vs Iterations\", xlabel=\"Iterations\", ylabel=\"Loss\")"
   ]
  },
  {
   "cell_type": "code",
   "execution_count": null,
   "id": "f4d514a8",
   "metadata": {},
   "outputs": [],
   "source": [
    "minimum(losses)"
   ]
  },
  {
   "cell_type": "code",
   "execution_count": null,
   "id": "4bfb184b",
   "metadata": {},
   "outputs": [],
   "source": [
    "@unpack xmin, xmax, ymin, ymax, tmin, tmax = config\n",
    "xs = collect(xmin:0.005:xmax)\n",
    "ys = collect(ymin:0.005:ymax);\n",
    "\n",
    "t = tmax\n",
    "B1_approx = [NN(vcat(t, x, y), res, st)[1][1] for x in xs, y in ys]\n",
    "B2_approx = [NN(vcat(t, x, y), res, st)[1][2] for x in xs, y in ys]\n",
    "p1 = plot(ys, xs, B1_approx, \n",
    "        linetype = :contourf, \n",
    "        #st = :surface,\n",
    "        title = \"predict B1 at t=$t\", aspect_ratio = 1)\n",
    "p2 = plot(ys, xs, B2_approx, \n",
    "        linetype = :contourf, \n",
    "        #st = :surface,\n",
    "        title = \"predict B2 at t=$t\", aspect_ratio = 1)\n",
    "ps = [p1, p2]\n",
    "plot(ps..., layout = (1,2), size = (900,400))\n"
   ]
  },
  {
   "cell_type": "code",
   "execution_count": null,
   "id": "ff803096",
   "metadata": {},
   "outputs": [],
   "source": [
    "tmax"
   ]
  },
  {
   "cell_type": "code",
   "execution_count": null,
   "id": "c22fbc1f",
   "metadata": {},
   "outputs": [],
   "source": [
    "#@load \"../../Toy_MHD/toy_MHD_2d_FD.jld2\" B B_final dx J Box t_final\n",
    "@load \"../../Toy_MHD/toy_MHD_2d_FD_WBC.jld2\" B B_final dx J Box t_final"
   ]
  },
  {
   "cell_type": "code",
   "execution_count": null,
   "id": "8ff8636d",
   "metadata": {},
   "outputs": [],
   "source": [
    "B_final_enlarg = zeros(size(B_final)[1], size(B_final)[2]+1, size(B_final)[3]+1)\n",
    "\n",
    "B_final_enlarg[:,1:end-1,1:end-1] = B_final[:,:,:]\n",
    "B_final_enlarg[:,1:end-1,end] = B_final[:,:,1]\n",
    "B_final_enlarg[:,end,1:end-1] = B_final[:,1,:]\n",
    "B_final_enlarg[:,end,end] = B_final[:,1,1]\n",
    "\n",
    "B_initial = similar(B_final_enlarg)\n",
    "B_initial[:,1:end-1,1:end-1] = B[:, :, :]\n",
    "B_initial[:,1:end-1,end] = B[:,:,1]\n",
    "B_initial[:,end,1:end-1] = B[:,1,:]\n",
    "B_initial[:,end,end] = B[:,1,1]\n"
   ]
  },
  {
   "cell_type": "code",
   "execution_count": null,
   "id": "5ea27552",
   "metadata": {},
   "outputs": [],
   "source": [
    "plot(ys, xs, B_final_enlarg[1,:,:] - 0.0*B1_approx,\n",
    "        linetype = :contourf, \n",
    "        #st = :surface,\n",
    "        title = \"predict B1 at t=$t\", aspect_ratio = 1)"
   ]
  },
  {
   "cell_type": "code",
   "execution_count": null,
   "id": "7b645b2d",
   "metadata": {},
   "outputs": [],
   "source": [
    "j = J[2]÷2\n",
    "B1_approx_initial = [NN(vcat(tmin, x, y), res, st)[1][1] for x in xs, y in ys]\n",
    "#plot(B_final_enlarg[1,j,:], label=\"FD\")\n",
    "plot(B_final[1,:,j], label=\"FD t= $t_final\")\n",
    "plot!(B1_approx[:,j], label=\"PINN\")\n",
    "plot!(B[1,:,j], label=\"Initial condition\")\n",
    "plot!(B1_approx_initial[:,j], label=\"PINN Initial condition\")\n",
    "savefig(\"toy_MHD_bc_out_t4_direct.png\")"
   ]
  },
  {
   "cell_type": "code",
   "execution_count": null,
   "id": "b97ddcda",
   "metadata": {},
   "outputs": [],
   "source": []
  }
 ],
 "metadata": {
  "kernelspec": {
   "display_name": "Julia 1.11.7",
   "language": "julia",
   "name": "julia-1.11"
  },
  "language_info": {
   "file_extension": ".jl",
   "mimetype": "application/julia",
   "name": "julia",
   "version": "1.11.7"
  }
 },
 "nbformat": 4,
 "nbformat_minor": 5
}
