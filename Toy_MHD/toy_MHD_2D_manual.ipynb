{
 "cells": [
  {
   "cell_type": "markdown",
   "id": "e6ee9900",
   "metadata": {},
   "source": [
    "## We solve the MHD toy model with PINN\n",
    "\n",
    "### The evolution equations are:\n",
    "\n",
    "$$\n",
    "\\partial_t B^i = \\nabla_j (v^j B^i - v^i B^j) \\;\\;\\;\\; \\nabla_i B^i = 0\n",
    "$$\n",
    "\n",
    "The vector field $v^i$ is given. \n",
    "\n",
    "And we impose Dirichlet boundary conditions.\n",
    "\n",
    "The initial data is: \n",
    "\n",
    "\\begin{align*}\n",
    "B_1 &= \\partial_y \\phi \\\\\n",
    "B_2 &= -\\partial_x \\phi\n",
    "\\end{align*}\n",
    "with (here we use xmin=0, xmax = 1, same for y)\n",
    "\n",
    "$$\n",
    "\\phi(x,y) = (x*(x-1)*y*(y-1))^2\n",
    "$$\n",
    "\n",
    "The velocity field is time-independent and given by:\n",
    "\n",
    "\\begin{align*}\n",
    "v1(t,x,y) &= \\sin(\\pi*x)*\\cos(\\pi*y) \\\\\n",
    "v2(t,x,y) &= \\cos(\\pi*x)*\\sin(\\pi*y) \\\\\n",
    "\\end{align*}\n",
    "\n"
   ]
  },
  {
   "cell_type": "code",
   "execution_count": null,
   "id": "0b17662d",
   "metadata": {},
   "outputs": [],
   "source": [
    "#import Pkg\n",
    "#Pkg.add(url=\"https://github.com/psy3nt1st/Optim.jl.git\")\n",
    "using Optim\n",
    "#using NeuralPDE\n",
    "#using Optimization\n",
    "using OptimizationOptimJL\n",
    "using Roots\n",
    "using LineSearches\n",
    "using ModelingToolkit, IntervalSets \n",
    "using IntervalSets\n",
    "using Plots, Printf\n",
    "using Lux, LuxCUDA, ComponentArrays, Random\n",
    "using JLD2, LinearAlgebra \n",
    "using Revise\n",
    "using Distributions\n",
    "using Zygote\n",
    "using StatsBase\n",
    "using NBInclude\n",
    "\n",
    "const gpud = gpu_device()\n"
   ]
  },
  {
   "cell_type": "markdown",
   "id": "ab87aa03",
   "metadata": {},
   "source": [
    "Some parameters: \n",
    "\n",
    "    1. Basic 1x1x5 region: \n",
    "        a. capas internas 64x4 \n",
    "        b. points 60k inner  30k initial surface, adaptive 120k \n",
    "        c. iter 500 x 20\n",
    "        d. for this chain the parameter count is: 17_026\n",
    "\n",
    "    2. JA (from 3d)\n",
    "        a. capas internas 40x4 \n",
    "        b. points 30k inner  ?k initial surface, adaptive ?k \n",
    "        c. iter 300-500 x 8-10\n",
    "\n",
    "    \n",
    "Parameter count formula (weights + biases):\n",
    "\n",
    "```\n",
    "total_params = N_input * N_neurons\n",
    "+ N_layers * (N_neurons)^2\n",
    "+ N_neurons * N_output # all weights\n",
    "+ (1 + N_layers) * N_neurons # biases for the (1 + N_layers) hidden layers\n",
    "+ N_output # output bias```"
   ]
  },
  {
   "cell_type": "code",
   "execution_count": null,
   "id": "c58def92",
   "metadata": {},
   "outputs": [],
   "source": [
    "# -------------------------------------------------------------------\n",
    "# Configuración\n",
    "# -------------------------------------------------------------------\n",
    "\n",
    "config_1 = Dict(\n",
    "    :N_input => 3,          # [t , x, y]\n",
    "    :N_neurons => 64,\n",
    "    :N_layers => 4,\n",
    "    :N_output => 2, \n",
    "    :N_points => 60_000,    # 10_000 # puntos de colisión (x,t)\n",
    "    :BCS_points => 10_000,\n",
    "    :N_points0 => 30_000, # 5_000 #puntos para las condiciones iniciales\n",
    "    :Minibatch => 500,\n",
    "    :xmin => 0.0,\n",
    "    :xmax => 1.0,           # = L dominio espacial\n",
    "    :ymin => 0.0,\n",
    "    :ymax => 1.0,           # = L dominio espacial\n",
    "    :tmin => 0.0,           # t_min\n",
    "    :tmax => 5.0,      #0.4     # t_max\n",
    "    #:optimizer => BFGS(),\n",
    "    :optimizer => SSBroyden(),\n",
    "    :maxiters => 6_000,\n",
    "    :N_rounds => 20,    # 5           # nº de rondas RAD\n",
    "    :iters_per_round => 500,       # iteraciones BFGS por ronda\n",
    "    :k1 => 1.0, \n",
    "    :k2 => 1.0,        # hiperparámetros RAD\n",
    "    :N_test => 120_000,             # candidatos por ronda, mayor que N_points\n",
    "    # for the initial data\n",
    "    :A => 1.0,\n",
    "    :p => 4,\n",
    "    :c => 1.0,\n",
    "    # for discretizations\n",
    "    :dx => [0.1, 0.1, 0.1], \n",
    "    #:method => :direct #:adaptive\n",
    "    :method => :adaptive\n",
    ")\n",
    "\n",
    "config_2 = Dict( #this is better adjusted to have ~17k parameters\n",
    "    :N_input => 3,          # [t , x, y]\n",
    "    :N_neurons => 64,\n",
    "    :N_layers => 4,\n",
    "    :N_output => 2, \n",
    "    :N_points => 20_000,    # 10_000 # puntos de colisión (x,t)\n",
    "    :BCS_points => 1_000,\n",
    "    :N_points0 => 4_000, # 5_000 #puntos para las condiciones iniciales\n",
    "    :Minibatch => 500,\n",
    "    :xmin => 0.0,\n",
    "    :xmax => 1.0,           # = L dominio espacial\n",
    "    :ymin => 0.0,\n",
    "    :ymax => 1.0,           # = L dominio espacial\n",
    "    :tmin => 0.0,           # t_min\n",
    "    :tmax => 5.0,      #0.4     # t_max\n",
    "    #:optimizer => BFGS(),\n",
    "    :optimizer => SSBroyden(),\n",
    "    :maxiters => 6_000,\n",
    "    :N_rounds => 20,    # 5           # nº de rondas RAD\n",
    "    :iters_per_round => 300,       # iteraciones BFGS por ronda\n",
    "    :k1 => 1.0, \n",
    "    :k2 => 1.0,        # hiperparámetros RAD\n",
    "    :N_test => 40_000,             # candidatos por ronda, mayor que N_points\n",
    "    # for the initial data\n",
    "    :A => 1.0,\n",
    "    :p => 4,\n",
    "    :c => 1.0,\n",
    "    # for discretizations\n",
    "    :dx => [0.1, 0.1, 0.1], \n",
    "    #:method => :direct #:adaptive\n",
    "    :method => :adaptive\n",
    ")\n",
    "\n",
    "\n",
    "config = config_2\n",
    "@show config"
   ]
  },
  {
   "cell_type": "code",
   "execution_count": null,
   "id": "e711e0d7",
   "metadata": {},
   "outputs": [],
   "source": [
    "includet(\"../neural_tools.jl\")"
   ]
  },
  {
   "cell_type": "markdown",
   "id": "e03b6a70",
   "metadata": {},
   "source": [
    "### The velocity fields \n",
    "\n",
    "The actual computation for the code are done on the function compute_V_and_DV()"
   ]
  },
  {
   "cell_type": "code",
   "execution_count": null,
   "id": "75de5ae2",
   "metadata": {},
   "outputs": [],
   "source": [
    "if in_nbinclude() == false\n",
    "#v1(t,x,y) = cos(pi*x)\n",
    "#v2(t,x,y) = cos(pi*y) # with minus is divergence free\n",
    "\n",
    "r20 = 0.16\n",
    "r2(x,y) = (x-0.5)^2 + (y-0.5)^2\n",
    "v1(t,x,y) = -2*p*(x-0.5)*r2(x,y)*(r2(x,y) - r20)\n",
    "v2(t,x,y) = 2*p*(y-0.5)*r2(x,y)*(r2(x,y) - r20)\n",
    "end\n"
   ]
  },
  {
   "cell_type": "code",
   "execution_count": null,
   "id": "11a52705",
   "metadata": {},
   "outputs": [],
   "source": [
    "\n",
    "xs = collect(config[:xmin]:0.01:config[:xmax])\n",
    "ys = collect(config[:ymin]:0.01:config[:ymax])\n",
    "r0 = 0.16\n",
    "if in_nbinclude() == false\n",
    "v1_d = [(x-0.5)*r2(x,y)*(r2(x,y) - r0) for x in xs, y in ys]\n",
    "v2_d = [(y-0.5)*r2(x,y)*(r2(x,y) - r0) for x in xs, y in ys]\n",
    "pv1 = plot(ys, xs, v1_d, linetype = :contourf, title = \"v1\", aspect_ratio = 1)\n",
    "pv2 = plot(ys, xs, v2_d, linetype = :contourf, title = \"v2\", aspect_ratio = 1)\n",
    "plot(pv1, pv2, layout = (1,2))\n",
    "end"
   ]
  },
  {
   "cell_type": "markdown",
   "id": "9ec6fbf7",
   "metadata": {},
   "source": [
    "The actual function that goes in the code:"
   ]
  },
  {
   "cell_type": "code",
   "execution_count": null,
   "id": "fd085418",
   "metadata": {},
   "outputs": [],
   "source": [
    "if in_nbinclude() == false\n",
    "ts = collect(config[:tmin]:0.01:config[:tmax])\n",
    "xs = collect(config[:xmin]:0.01:config[:xmax])\n",
    "ys = collect(config[:ymin]:0.01:config[:ymax])\n",
    "\n",
    "V1 = [calculate_V_and_DVs(0.0, [x,], [y,])[1][1] for x in xs, y in ys]\n",
    "V2 = [calculate_V_and_DVs(0.0, [x,], [y,])[2][1] for x in xs, y in ys]\n",
    "\n",
    "@show typeof(V1) size(V1)\n",
    "#@show typeof(DxV1) size(DxV1)\n",
    "#M = reshape(V1, (length(xs), length(ys)))\n",
    "p1 = plot(ys, xs, V1, linetype = :contourf, title = \"v1\", aspect_ratio = 1)\n",
    "p2 = plot(ys, xs, V2, linetype = :contourf, title = \"v2\", aspect_ratio = 1)\n",
    "plot(p1, p2, layout = (1,2))\n",
    "\n",
    "#@show maximum(abs.(V1))\n",
    "#@show V1[1,1]\n",
    "end\n",
    "\n"
   ]
  },
  {
   "cell_type": "code",
   "execution_count": null,
   "id": "ce746bb5",
   "metadata": {},
   "outputs": [],
   "source": [
    "if in_nbinclude() == false\n",
    "    @show minimum(V1[1,:]) # has to be negative\n",
    "    @show maximum(V1[end,:]) # has to be positive\n",
    "    @show minimum(V2[:,1]) # has to be negative\n",
    "    @show maximum(V2[:,end]) # has to be positive\n",
    "end\n"
   ]
  },
  {
   "cell_type": "markdown",
   "id": "800182a4",
   "metadata": {},
   "source": [
    "### The initial magnetic fields\n",
    "\n",
    "The actual computations are done on the function for the boundary (initial) conditions."
   ]
  },
  {
   "cell_type": "code",
   "execution_count": null,
   "id": "26516b61",
   "metadata": {},
   "outputs": [],
   "source": [
    "#=\n",
    "phi(x,y) = (x*(x-1)*y*(y-1))^4*2^(4p)\n",
    "\n",
    "p= config[:p]\n",
    "B1_d = [ p*y^(p-1)*(y-1)^(p-1)*(2y-1)*x^p*(x-1)^p*2^(4p) for x in xs for y in ys]\n",
    "B2_d = [ -p*x^(p-1)*(x-1)^(p-1)*(2x-1)*y^p*(y-1)^p*2^(4p) for x in xs for y in ys]\n",
    "pv1 = plot(xs, ys, B1_d, linetype = :contourf, title = \"Initial B1\", aspect_ratio = 1)\n",
    "pv2 = plot(xs, ys, B2_d, linetype = :contourf, title = \"Initial B2\", aspect_ratio = 1)\n",
    "plot(pv1, pv2, layout = (1,2))\n",
    "=#\n",
    "\n"
   ]
  },
  {
   "cell_type": "markdown",
   "id": "d5bdb5f1",
   "metadata": {},
   "source": [
    "The actual function that goes into the code"
   ]
  },
  {
   "cell_type": "code",
   "execution_count": null,
   "id": "11b42fc9",
   "metadata": {},
   "outputs": [],
   "source": [
    "\n",
    "function B0(x,y,p)\n",
    "    B1_0 =  p.*y.^(p-1).*(y.-1).^(p-1).*(2y.-1).*x.^p.*(x.-1).^p.*2^(4p)\n",
    "    B2_0 = -p.*x.^(p-1).*(x.-1).^(p-1).*(2x.-1).*y.^p.*(y.-1).^p.*2^(4p)\n",
    "    return B1_0, B2_0 \n",
    "end"
   ]
  },
  {
   "cell_type": "code",
   "execution_count": null,
   "id": "351b5343",
   "metadata": {},
   "outputs": [],
   "source": [
    "\n",
    "if in_nbinclude() == false\n",
    "ts = collect(config[:tmin]:0.01:config[:tmax])\n",
    "xs = collect(config[:xmin]:0.01:config[:xmax])\n",
    "ys = collect(config[:ymin]:0.01:config[:ymax])\n",
    "\n",
    "xl = repeat(xs, inner=length(ys))\n",
    "yl = repeat(ys, outer=length(xs))\n",
    "tl = zeros(length(xs)*length(ys));\n",
    "\n",
    "\n",
    "\n",
    "#B1 = [B0([x,], [y,], 4)[1][1] for x in xs, y in ys]\n",
    "#B2 = [B0([x,], [y,], 4)[2][1] for x in xs, y in ys]\n",
    "\n",
    "B1l = B0(xl, yl, 4)[1] #this way it is a x and y are long vectors undoing the square into a line.\n",
    "B2l = B0(xl, yl, 4)[2] \n",
    "\n",
    "@show typeof(vec(B1l)) size(vec(B1l))\n",
    "#@show typeof(DxV1) size(DxV1)\n",
    "#M = reshape(V1, (length(xs), length(ys)))\n",
    "p1 = plot(ys, xs, B1l, linetype = :contourf, title = \"B1\", aspect_ratio = 1) # this plot makes an automatinc reshaping\n",
    "p2 = plot(ys, xs, B2l, linetype = :contourf, title = \"B2\", aspect_ratio = 1)\n",
    "plot(p1, p2, layout = (1,2))\n",
    "end\n"
   ]
  },
  {
   "cell_type": "markdown",
   "id": "2ae53aa0",
   "metadata": {},
   "source": [
    "### The equations"
   ]
  },
  {
   "cell_type": "code",
   "execution_count": null,
   "id": "fc2c9bfb",
   "metadata": {},
   "outputs": [],
   "source": [
    "\n",
    "eqs(B1, B2, DtB1, DtB2, DxB1, DxB2, DyB1, DyB2, V1, V2, DxV1, DxV2, DyV1, DyV2) = [DtB1 - DyV2 .* B1 - V2 .* DyB1 + DyV1 .* B2 + DyB2 .* V1, \n",
    "    DtB2 - DxV1 .* B2 - V1 .* DxB2 + DxV2 .* B1 + DxB1 .* V2 , \n",
    "    DxB1 + DyB2]\n"
   ]
  },
  {
   "cell_type": "markdown",
   "id": "7f288ec3",
   "metadata": {},
   "source": [
    "### Boundary conditions\n",
    "\n",
    "Using the constraint the equations are equivalent to:\n",
    "\n",
    "$$\n",
    "\\partial_t B^i = v^j\\partial_j B^i + l.o.t.\n",
    "$$\n",
    "Thus, at the boundaries we have to impose boundary conditions (non-incoming in our case) only when\n",
    "$v^jn_j \\geq 0$.\n",
    "\n",
    "Otherwise we could put periodic boundary conditions by imposing for instance $B^i(t,0,y) = B^i(t,L,y)$\n"
   ]
  },
  {
   "cell_type": "code",
   "execution_count": null,
   "id": "c3dd733c",
   "metadata": {},
   "outputs": [],
   "source": [
    "non_incoming = false\n",
    "periodic = false\n",
    "\n",
    "#non_incoming = true\n",
    "#periodic = true\n",
    "if non_incoming \n",
    "bcs(B1, B2, B10, B20, V1, V2) = [B1 - B10,\n",
    "    B2 - B20,\n",
    "    (1 - sign(V1[0,:]))*sign(V1[0,:])*B1[0,:],\n",
    "    (1 + sign(V1[end,:]))*sign(V1[end,:])*B1[end,:],\n",
    "    (1 - sign(V2[:,0]))*sign(V2[:,0])*B1[:,0],\n",
    "    (1 + sign(V2[:,end]))*sign(V2[:,end])*B1[:,end],\n",
    "    (1 - sign(V1[0,:]))*sign(V1[0,:])*B2[0,:],\n",
    "    (1 + sign(V1[end,:]))*sign(V1[end,:])*B2[end,:],\n",
    "    (1 - sign(V2[:,0]))*sign(V2[:,0])*B2[:,0],\n",
    "    (1 + sign(V2[:,end]))*sign(V2[:,end])*B2[:,end]]\n",
    "\n",
    "elseif periodic\n",
    "\n",
    "    bcs(B1, B2, B10, B20, V1, V2) = [B1 - B10,\n",
    "    B2 - B20] # periodicity is hard implemented\n",
    "    \n",
    "else\n",
    "    bcs(B1, B2, B10, B20, V1, V2) = [B1 - B10,\n",
    "    B2 - B20] # when V is outgoing in all the boundary.\n",
    "end\n"
   ]
  },
  {
   "cell_type": "code",
   "execution_count": null,
   "id": "159a230c",
   "metadata": {},
   "outputs": [],
   "source": [
    "NN, Θ, st = create_neural_network(config)"
   ]
  },
  {
   "cell_type": "code",
   "execution_count": null,
   "id": "05e25590",
   "metadata": {},
   "outputs": [],
   "source": [
    "\n",
    "input = generate_input_t_x_y(config) # the order is t,x,y.\n",
    "input0 = generate_input0_xy(config) # the order is t,x,y.\n",
    "input_total = [input, input0]\n",
    "\n",
    "@show typeof(input) size(input)\n",
    "@show typeof(input_total) size(input_total)\n",
    "@show typeof(Θ) size(Θ)\n",
    "@show typeof(NN(input[:,:], Θ, st)[1]) size(NN(input[:,:], Θ, st)[1])\n",
    "\n",
    "#NN(input[:,:], Θ, st)[1][1,:]"
   ]
  },
  {
   "cell_type": "code",
   "execution_count": null,
   "id": "0908490b",
   "metadata": {},
   "outputs": [],
   "source": [
    "# input0[1:1,:,:]"
   ]
  },
  {
   "cell_type": "code",
   "execution_count": null,
   "id": "efc50a7d",
   "metadata": {},
   "outputs": [],
   "source": [
    "#input_total[2][3:3,:] # the inputs are working OK\n"
   ]
  },
  {
   "cell_type": "code",
   "execution_count": null,
   "id": "44ce9054",
   "metadata": {},
   "outputs": [],
   "source": [
    "#=\n",
    "t, x, y = input_total[1][1:1, :], input_total[1][2:2, :], input_total[1][3:3, :]\n",
    "\n",
    "B1, B2, DtB1, DtB2, DxB1, DxB2, DyB1, DyB2 = calculate_fields_and_derivatives_Toy_MHD(t, x, y, NN, Θ, st)\n",
    "\n",
    "@show typeof(B1) size(B1)\n",
    "@show typeof(DtB1) size(DtB1)\n",
    "#y\n",
    "B1\n",
    "=#"
   ]
  },
  {
   "cell_type": "code",
   "execution_count": null,
   "id": "637f9c2c",
   "metadata": {},
   "outputs": [],
   "source": [
    "```\n",
    "Residual at collocation points\n",
    "``` \n",
    "\n",
    "function residual_at_points_Toy_MHD(input_total, NN, Θ, st)\n",
    "    # residual for the equations\n",
    "    t, x, y = input_total[1][1:1, :], input_total[1][2:2, :], input_total[1][3:3, :]\n",
    "    B1, B2, DtB1, DtB2, DxB1, DxB2, DyB1, DyB2  = calculate_fields_and_derivatives_Toy_MHD(t, x, y, NN, Θ, st)\n",
    "    V1, V2, DxV1, DxV2, DyV1, DyV2 = calculate_V_and_DVs(t, x, y)\n",
    "    #println(\"V1: \", V1)\n",
    "    res_eq = eqs(B1, B2, DtB1, DtB2, DxB1, DxB2, DyB1, DyB2, V1, V2, DxV1, DxV2, DyV1, DyV2)\n",
    "    # residual for the initial conditions\n",
    "    t0, x0, y0 = input_total[2][1:1, :], input_total[2][2:2, :], input_total[2][3:3, :]\n",
    "    B10, B20 = B0(x0, y0, config[:p])\n",
    "    #@show typeof(B10) size(B10)\n",
    "    B1, B2, DtB1, DtB2, DxB1, DxB2, DyB1, DyB2  = calculate_fields_and_derivatives_Toy_MHD(t0, x0, y0, NN, Θ, st)\n",
    "    #@show typeof(B1) size(B1)\n",
    "    V1, V2, DxV1, DxV2, DyV1, DyV2 = calculate_V_and_DVs(t0, x0, y0)\n",
    "    res_bc = bcs(B1, B2, vec(B10), vec(B20), V1, V2)\n",
    "    #res = vcat(res_eq, res_bc)\n",
    "    #@show typeof(vec(res_eq[1] |> cpu_device())) size(vec(res_eq[1] |> cpu_device()))\n",
    "    return vcat(vec(abs.(res_eq[1] |> cpu_device())), vec(abs.(res_eq[2] |> cpu_device())), vec(abs.(res_eq[3] |> cpu_device()))),  vcat(vec(abs.(res_bc[1] |> cpu_device())), vec(abs.(res_bc[2] |> cpu_device()))) # magnitud del residuo en CPU\n",
    "end\n"
   ]
  },
  {
   "cell_type": "code",
   "execution_count": null,
   "id": "e61a18c9",
   "metadata": {},
   "outputs": [],
   "source": [
    "#residual_at_points_Toy_MHD(input_total, NN, Θ, st)"
   ]
  },
  {
   "cell_type": "code",
   "execution_count": null,
   "id": "c18ed27f",
   "metadata": {},
   "outputs": [],
   "source": [
    "#Eq, BC = residual_at_points_Toy_MHD(input_total, NN, Θ, st)"
   ]
  },
  {
   "cell_type": "code",
   "execution_count": null,
   "id": "87547357",
   "metadata": {},
   "outputs": [],
   "source": [
    "\n",
    "# -------------------------------------------------------------------\n",
    "# Loss function \n",
    "# -------------------------------------------------------------------\n",
    "\n",
    "function loss_function_Toy_MHD(input_total, NN, Θ, st)\n",
    "    res_eq, res_bcs = residual_at_points_Toy_MHD(input_total, NN, Θ, st)\n",
    "    #return NaNMath.log10(sum(abs2, res) / length(res))\n",
    "    loss_eq = sum(abs2, res_eq) / length(res_eq)\n",
    "    loss_bcs = sum(abs2, res_bcs) / length(res_bcs)\n",
    "    #println(\"Loss eq: \", loss_eq, \" Loss bcs: \", loss_bcs)\n",
    "    return log10(loss_eq + loss_bcs)\n",
    "    #return sum(abs2, res_eq) / length(res_eq) + sum(abs2, res_bcs) / length(res_bcs)\n",
    "end\n",
    "\n",
    "\n",
    "# -------------------------------------------------------------------\n",
    "# Callback\n",
    "# -------------------------------------------------------------------\n",
    "function callback(p, l, losses)\n",
    "    push!(losses, l)\n",
    "    println(\"Current loss: \", l)\n",
    "    return false\n",
    "end"
   ]
  },
  {
   "cell_type": "code",
   "execution_count": null,
   "id": "1eb05435",
   "metadata": {},
   "outputs": [],
   "source": [
    "#loss_function_Toy_MHD(input, NN, Θ, st)\n",
    "losses = Float64[]"
   ]
  },
  {
   "cell_type": "code",
   "execution_count": null,
   "id": "acf4dfdb",
   "metadata": {},
   "outputs": [],
   "source": [
    "#adaptive = true\n",
    "#adaptive = false\n",
    "\n",
    "@unpack N_rounds, iters_per_round, N_test, N_points, method = config\n",
    "#optf   = OptimizationFunction((Θ, input_total) -> loss_function_Toy_MHD(input_total, NN, Θ, st), AutoZygote())\n",
    "\n",
    "if method === :adaptive \n",
    "    \n",
    "    # Configura las rondas adaptativas (ajusta a tu gusto)\n",
    "    #nrounds = 20                # nº de rondas RAD\n",
    "    #iters_per_round = 500       # iteraciones BFGS por ronda\n",
    "    #k1, k2 = 1.0, 1          # hiperparámetros RAD\n",
    "    #Ntest = 20_000              # candidatos por ronda\n",
    "\n",
    "    for r in 1:N_rounds\n",
    "        @info \"RAD round $r / $N_rounds  |  iters=$iters_per_round\"\n",
    "        # Optimiza sobre el conjunto actual de colisión\n",
    "        global optf   = OptimizationFunction((Θ, input) -> loss_function_Toy_MHD(input, NN, Θ, st), AutoZygote())\n",
    "        global optprob = OptimizationProblem(optf, Θ, input_total)\n",
    "        global optresult  = solve(\n",
    "            optprob,\n",
    "            config[:optimizer];\n",
    "            callback = (p, l) -> callback(p, l, losses),\n",
    "            maxiters = iters_per_round,\n",
    "        )\n",
    "        global Θ = optresult.u  # continúa desde el óptimo de la ronda\n",
    "\n",
    "        # Re-muestrea puntos de colisión ponderando por residuo\n",
    "        global input = adaptive_rad_toy_MHD(NN, Θ, st, config; Ntest=N_test, Nint=N_points)#, k1=k1, k2=k2)\n",
    "        global input0 = generate_input0_xy(config) # reset input0\n",
    "        global input_total = [input, input0]\n",
    "    end\n",
    "\n",
    "else\n",
    "    for r in 1:N_rounds\n",
    "        \n",
    "        @info \"Normal training round $r / $N_rounds  |  iters=$iters_per_round\"\n",
    "\n",
    "        global optf = OptimizationFunction((Θ, input) -> loss_function_Toy_MHD(input, NN, Θ, st), AutoZygote())\n",
    "        global optprob = OptimizationProblem(optf, Θ, input_total)\n",
    "\n",
    "        global optresult = solve(\n",
    "            optprob,\n",
    "            callback = (p, l) -> callback(p, l, losses),\n",
    "            config[:optimizer],\n",
    "            maxiters = iters_per_round,\n",
    "        )\n",
    "        global Θ = optresult.u  # continúa desde el óptimo de la ronda\n",
    "\n",
    "        # Nueva muestra de puntos de colisión.\n",
    "\n",
    "        global input = generate_input_t_x_y(config) # reset input\n",
    "        global input0 = generate_input0_xy(config) # reset input0\n",
    "        global input_total = [input, input0]\n",
    "        \n",
    "    end\n",
    "end\n",
    "\n",
    "# Parámetros optimizados a CPU si procede\n",
    "res = Θ |> cpu_device()\n"
   ]
  },
  {
   "cell_type": "code",
   "execution_count": null,
   "id": "eb9855a1",
   "metadata": {},
   "outputs": [],
   "source": [
    "#res = Θ |> cpu_device()"
   ]
  },
  {
   "cell_type": "code",
   "execution_count": null,
   "id": "b222e151",
   "metadata": {},
   "outputs": [],
   "source": [
    "#Y, _ = residual_at_points_Toy_MHD(input_total, NN, Θ, st)"
   ]
  },
  {
   "cell_type": "code",
   "execution_count": null,
   "id": "ace90b39",
   "metadata": {},
   "outputs": [],
   "source": [
    "#adaptive_rad_toy_MHD(NN, Θ, st, config; Ntest=N_test, Nint=N_points)#, k1=k1, k2=k2)"
   ]
  },
  {
   "cell_type": "code",
   "execution_count": null,
   "id": "333f2e2e",
   "metadata": {},
   "outputs": [],
   "source": [
    "println(\"Training completed. Saving data\")\n",
    "if method == :direct\n",
    "    @save \"toy_MHD_2D_Man_comp.jld2\" config res st losses\n",
    "elseif method == :adaptive\n",
    "    @save \"toy_MHD_2D_Man_Ada.jld2\" config res st losses \n",
    "else\n",
    "    @save \"toy_MHD_2D_Man_try.jld2\" config res st losses\n",
    "end\n"
   ]
  },
  {
   "cell_type": "code",
   "execution_count": null,
   "id": "cfe1a6b9",
   "metadata": {},
   "outputs": [],
   "source": [
    "if in_nbinclude()\n",
    "    exit()\n",
    "end"
   ]
  },
  {
   "cell_type": "code",
   "execution_count": null,
   "id": "69ca3362",
   "metadata": {},
   "outputs": [],
   "source": [
    "plot(losses, title = \"Loss history\", xlabel = \"Iteration\", ylabel = \"Loss\",\n",
    "    #yscale = :log10\n",
    "    )\n"
   ]
  },
  {
   "cell_type": "code",
   "execution_count": null,
   "id": "51cb408f",
   "metadata": {},
   "outputs": [],
   "source": [
    "#Θ = optresult.u |> cpu_device()\n",
    "#res = optresult.u |> cpu_device()"
   ]
  },
  {
   "cell_type": "code",
   "execution_count": null,
   "id": "6668fce6",
   "metadata": {},
   "outputs": [],
   "source": [
    "\n",
    "@unpack tmin, tmax, xmin, xmax, ymin, ymax = config\n",
    "xs = collect(xmin:0.01:xmax)\n",
    "ys = collect(ymin:0.01:ymax);\n",
    "\n",
    "t = 0.0\n",
    "B1_approx = [NN(vcat(t, x, y), res, st)[1][1] for x in xs, y in ys]\n",
    "B2_approx = [NN(vcat(t, x, y), res, st)[1][2] for x in xs, y in ys]\n",
    "plt1 = plot(ys, xs, B1_approx, \n",
    "        linetype = :contourf, \n",
    "        #st = :surface,\n",
    "        title = \"predict B1\", aspect_ratio = 1)\n",
    "plt2 = plot(ys, xs, B2_approx, \n",
    "        linetype = :contourf, \n",
    "        #st = :surface,\n",
    "        title = \"predict B2\", aspect_ratio = 1)\n",
    "#ps = [p1, p2]\n",
    "#plot(plt,ps..., layout = (1,2), size = (900,400))\n",
    "\n",
    "\n",
    "#plot(plt1,plt2, layout = (1,2), size = (900,400))\n",
    "plt1"
   ]
  },
  {
   "cell_type": "code",
   "execution_count": null,
   "id": "57d251b7",
   "metadata": {},
   "outputs": [],
   "source": [
    "@unpack tmin, tmax, xmin, xmax, ymin, ymax = config\n",
    "xs = collect(xmin:0.01:xmax)\n",
    "ys = collect(ymin:0.01:ymax);\n",
    "\n",
    "t = 0.0\n",
    "B1_approx = [NN(vcat(t, x, y), res, st)[1][1] for x in xs, y in ys]\n",
    "B2_approx = [NN(vcat(t, x, y), res, st)[1][2] for x in xs, y in ys]\n",
    "plt1 = plot(ys, xs, B1_approx, \n",
    "        linetype = :contourf, \n",
    "        #st = :surface,\n",
    "        title = \"predict B1\", aspect_ratio = 1)\n",
    "plt2 = plot(ys, xs, B2_approx, \n",
    "        linetype = :contourf, \n",
    "        #st = :surface,\n",
    "        title = \"predict B2\", aspect_ratio = 1)\n",
    "ps = [plt1, plt2]\n",
    "plot(ps..., layout = (1,2), size = (900,400))"
   ]
  },
  {
   "cell_type": "code",
   "execution_count": null,
   "id": "0acc40fe",
   "metadata": {},
   "outputs": [],
   "source": [
    "plot(ys, xs, B1_approx, \n",
    "        linetype = :contourf, \n",
    "        #st = :surface,\n",
    "        title = \"predict B1\", aspect_ratio = 1)"
   ]
  }
 ],
 "metadata": {
  "kernelspec": {
   "display_name": "Julia 1.11.7",
   "language": "julia",
   "name": "julia-1.11"
  },
  "language_info": {
   "file_extension": ".jl",
   "mimetype": "application/julia",
   "name": "julia",
   "version": "1.11.7"
  }
 },
 "nbformat": 4,
 "nbformat_minor": 5
}
