{
 "cells": [
  {
   "cell_type": "markdown",
   "id": "e6ee9900",
   "metadata": {},
   "source": [
    "## We solve the MHD toy model with PINN\n",
    "\n",
    "### The evolution equations are:\n",
    "\n",
    "$$\n",
    "\\partial_t B^i = \\nabla_j (v^j B^i - v^i B^j) \\;\\;\\;\\; \\nabla_i B^i = 0\n",
    "$$\n",
    "\n",
    "The vector field $v^i$ is given. \n",
    "\n",
    "And we impose Dirichlet boundary conditions.\n",
    "\n",
    "The initial data is: \n",
    "\n",
    "\\begin{align*}\n",
    "B_1 &= \\partial_y \\phi \\\\\n",
    "B_2 &= -\\partial_x \\phi\n",
    "\\end{align*}\n",
    "with (here we use xmin=0, xmax = 1, same for y)\n",
    "\n",
    "$$\n",
    "\\phi(x,y) = (x*(x-1)*y*(y-1))^2\n",
    "$$\n",
    "\n",
    "The velocity field is time-independent and given by:\n",
    "\n",
    "\\begin{align*}\n",
    "v1(t,x,y) &= \\sin(\\pi*x)*\\cos(\\pi*y) \\\\\n",
    "v2(t,x,y) &= \\cos(\\pi*x)*\\sin(\\pi*y) \\\\\n",
    "\\end{align*}\n",
    "\n"
   ]
  },
  {
   "cell_type": "code",
   "execution_count": null,
   "id": "0b17662d",
   "metadata": {},
   "outputs": [],
   "source": [
    "using NeuralPDE, Optimization, OptimizationOptimJL, Roots,\n",
    "      LineSearches\n",
    "using ModelingToolkit, IntervalSets \n",
    "using IntervalSets\n",
    "using Plots, Printf\n",
    "using Lux, LuxCUDA, ComponentArrays, Random\n",
    "using JLD2, LinearAlgebra \n",
    "const gpud = gpu_device()\n",
    "\n",
    "@parameters t, x, y\n",
    "@variables B1(..), B2(..)\n",
    "Dx = Differential(x)\n",
    "Dy = Differential(y)\n",
    "Dt = Differential(t)"
   ]
  },
  {
   "cell_type": "code",
   "execution_count": null,
   "id": "c58def92",
   "metadata": {},
   "outputs": [],
   "source": [
    "# -------------------------------------------------------------------\n",
    "# Configuración\n",
    "# -------------------------------------------------------------------\n",
    "config = Dict(\n",
    "    :N_input => 3,          # [t , x, y]\n",
    "    :N_neurons => 64,\n",
    "    :N_layers => 3,\n",
    "    :N_output => 1, \n",
    "    :N_points => 150_000,     # puntos de colisión (x,t)\n",
    "    :xmin => 0.0,\n",
    "    :xmax => 1.0,           # = L dominio espacial\n",
    "    :ymin => 0.0,\n",
    "    :ymax => 1.0,           # = L dominio espacial\n",
    "    :tmin => 0.0,           # t_min\n",
    "    :tmax => 2.0,           # t_max\n",
    "    :optimizer => BFGS(),\n",
    "    :maxiters => 30000,\n",
    "    # for the initial data\n",
    "    :A => 1.0,\n",
    "    :p => 2,\n",
    "    :c => 1.0,\n",
    "    # for discretizations\n",
    "    :dx => [0.1, 0.1, 0.1]\n",
    ")"
   ]
  },
  {
   "cell_type": "code",
   "execution_count": null,
   "id": "35edef23",
   "metadata": {},
   "outputs": [],
   "source": [
    "# Space and time domains\n",
    "\n",
    "@show domains = [t ∈ Interval(config[:tmin], config[:tmax]),\n",
    "    x ∈ Interval(config[:xmin], config[:xmax]), y ∈ Interval(config[:ymin], config[:ymax])]\n",
    "# Discretization\n",
    "dx = config[:dx]"
   ]
  },
  {
   "cell_type": "code",
   "execution_count": null,
   "id": "75de5ae2",
   "metadata": {},
   "outputs": [],
   "source": [
    "v1(t,x,y) = -sin(pi*x)\n",
    "v2(t,x,y) = -sin(pi*y) # with minus is divergence free\n",
    "\n",
    "phi(x,y) = (x*(x-1)*y*(y-1))^2*64 # to make it zero at the boundaries\n",
    "\n",
    "\n"
   ]
  },
  {
   "cell_type": "code",
   "execution_count": null,
   "id": "11a52705",
   "metadata": {},
   "outputs": [],
   "source": [
    "xs, ys = [0.0:0.01:1.0 for d in domains]\n",
    "\n",
    "v1_d = [v1(0, x, y) for x in xs for y in ys]\n",
    "v2_d = [v2(0, x, y) for x in xs for y in ys]\n",
    "pv1 = plot(xs, ys, v1_d, linetype = :contourf, title = \"v1\", aspect_ratio = 1)\n",
    "pv2 = plot(xs, ys, v2_d, linetype = :contourf, title = \"v2\", aspect_ratio = 1)\n",
    "plot(pv1, pv2, layout = (1,2))"
   ]
  },
  {
   "cell_type": "code",
   "execution_count": null,
   "id": "26516b61",
   "metadata": {},
   "outputs": [],
   "source": [
    "B1_d = [ y*(y-1)*(2y-1)*x^2*(x-1)^2*128 for x in xs for y in ys]\n",
    "B2_d = [ -x*(x-1)*(2x-1)*y^2*(y-1)^2*128 for x in xs for y in ys]\n",
    "pv1 = plot(xs, ys, B1_d, linetype = :contourf, title = \"Initial B1\", aspect_ratio = 1)\n",
    "pv2 = plot(xs, ys, B2_d, linetype = :contourf, title = \"Initial B2\", aspect_ratio = 1)\n",
    "plot(pv1, pv2, layout = (1,2))"
   ]
  },
  {
   "cell_type": "code",
   "execution_count": null,
   "id": "fc2c9bfb",
   "metadata": {},
   "outputs": [],
   "source": [
    "\n",
    "eqs = [Dt(B1(t,x,y)) ~ Dy(v2(t,x,y)*B1(t,x,y) - v1(t,x,y)*B2(t,x,y)), \n",
    "    Dt(B2(t,x,y)) ~ Dx(v1(t,x,y)*B2(t,x,y) - v2(t,x,y)*B1(t,x,y)), \n",
    "    Dx(B1(t,x,y)) + Dy(B2(t,x,y))  ~ 0]\n"
   ]
  },
  {
   "cell_type": "markdown",
   "id": "7f288ec3",
   "metadata": {},
   "source": [
    "### Boundary conditions\n",
    "\n",
    "Using the constraint the equations are equivalent to:\n",
    "\n",
    "$$\n",
    "\\partial_t B^i = v^j\\partial_j B^i + l.o.t.\n",
    "$$\n",
    "Thus, at the boundaries we have to impose boundary conditions (non-incoming in our case) only when\n",
    "$v^jn_j \\geq 0$.\n",
    "\n",
    "Otherwise we could put periodic boundary conditions by imposing for instance $B^i(t,0,y) = B^i(t,L,y)$\n"
   ]
  },
  {
   "cell_type": "code",
   "execution_count": null,
   "id": "c3dd733c",
   "metadata": {},
   "outputs": [],
   "source": [
    "non_incoming = false\n",
    "periodic = true\n",
    "if non_incoming \n",
    "bcs = [B1(0,x,y) ~ Dy(phi(x,y)),\n",
    "    B2(0,x,y) ~ -Dx(phi(x,y)),\n",
    "    (1 - sign(v1(t,0,y)))*B1(t,0,y) ~ 0,\n",
    "    (1 + sign(v1(t,1,y)))*B1(t,1,y) ~ 0,\n",
    "    (1 - sign(v2(t,x,0)))*B1(t,x,0) ~ 0,\n",
    "    (1 + sign(v2(t,x,1)))*B1(t,x,1) ~ 0,\n",
    "    (1 - sign(v1(t,0,y)))B2(t,0,y) ~ 0,\n",
    "    (1 + sign(v1(t,1,y)))B2(t,1,y) ~ 0,\n",
    "    (1 - sign(v2(t,x,0)))B2(t,x,0) ~ 0,\n",
    "    (1 + sign(v2(t,x,1)))B2(t,x,1) ~ 0]\n",
    "\n",
    "elseif periodic\n",
    "\n",
    "    bcs = [B1(0,x,y) ~ Dy(phi(x,y)),\n",
    "    B2(0,x,y) ~ -Dx(phi(x,y)),\n",
    "    B1(t,0,y) ~ B1(t,1,y),\n",
    "    B1(t,x,0) ~ B1(t,x,1),\n",
    "    B2(t,0,y) ~ B2(t,1,y),\n",
    "    B2(t,x,0) ~ B2(t,x,1)]\n",
    "end\n"
   ]
  },
  {
   "cell_type": "code",
   "execution_count": null,
   "id": "159a230c",
   "metadata": {},
   "outputs": [],
   "source": [
    "# Neural network\n",
    "input_ = length(domains)\n",
    "n = config[:N_neurons]\n",
    "chain = [Chain(Dense(input_, n, σ), Dense(n, n, σ), Dense(n, 1)) for _ in 1:2]\n",
    "\n",
    "#strategy = QuadratureTraining()\n",
    "strategy = GridTraining(dx)\n",
    "#ps = Lux.setup(Random.default_rng(), chain)[1]\n",
    "#ps = ps |> ComponentArray |> gpud .|> Float64\n",
    "discretization = PhysicsInformedNN(chain, strategy)\n",
    "\n",
    "@named MHD_toy = PDESystem(eqs, bcs, domains, [t, x, y], [B1(t, x, y), B2(t, x, y)])\n",
    "prob = discretize(MHD_toy, discretization)\n",
    "sym_prob = symbolic_discretize(MHD_toy, discretization)\n",
    "\n",
    "pde_inner_loss_functions = sym_prob.loss_functions.pde_loss_functions\n",
    "bcs_inner_loss_functions = sym_prob.loss_functions.bc_loss_functions\n",
    "\n",
    "loss = Float64[]\n",
    "\n",
    "callback = function (p, l)\n",
    "    println(\"loss: \", l)\n",
    "    println(\"pde_losses: \", map(l_ -> l_(p.u), pde_inner_loss_functions))\n",
    "    println(\"bcs_losses: \", map(l_ -> l_(p.u), bcs_inner_loss_functions))\n",
    "    push!(loss, l)\n",
    "    return false\n",
    "end\n",
    "\n",
    "res = Optimization.solve(prob, BFGS(linesearch = BackTracking()); maxiters = 1200, callback)\n"
   ]
  },
  {
   "cell_type": "code",
   "execution_count": null,
   "id": "69ca3362",
   "metadata": {},
   "outputs": [],
   "source": [
    "plot(loss, yscale = :log10, title = \"Loss history\", xlabel = \"Iteration\", ylabel = \"Loss\")"
   ]
  },
  {
   "cell_type": "code",
   "execution_count": null,
   "id": "4d83fe46",
   "metadata": {},
   "outputs": [],
   "source": [
    "phi_d = discretization.phi"
   ]
  },
  {
   "cell_type": "code",
   "execution_count": null,
   "id": "333f2e2e",
   "metadata": {},
   "outputs": [],
   "source": [
    "depvars = [:B1, :B2]\n",
    "minimizers_ = [res.u.depvar[depvars[i]] for i in 1:length(chain)]\n",
    "\n",
    "@save \"toy_MHD_2D.jld2\" config domains eqs bcs depvars minimizers_ phi_d loss"
   ]
  },
  {
   "cell_type": "markdown",
   "id": "996e283f",
   "metadata": {},
   "source": []
  }
 ],
 "metadata": {
  "kernelspec": {
   "display_name": "Julia 1.11.7",
   "language": "julia",
   "name": "julia-1.11"
  },
  "language_info": {
   "file_extension": ".jl",
   "mimetype": "application/julia",
   "name": "julia",
   "version": "1.11.7"
  }
 },
 "nbformat": 4,
 "nbformat_minor": 5
}
