{
 "cells": [
  {
   "cell_type": "markdown",
   "id": "d3870179",
   "metadata": {},
   "source": [
    "# Wave with periodic bc with the scheme from Palma\n",
    "\n",
    "We solve the wave equation with Dirichlet boundary conditions (homogeneous) up to $T = 2L$ where $L$ is the space size of the integrating region. The data is reflection symmetric, $u_0(x) = u_0(L-x)$, $\\partial_t u(x,t=0) = 0$. This way at the last point the solution repeats itself and we can measure the error very well."
   ]
  },
  {
   "cell_type": "code",
   "execution_count": null,
   "id": "8b96c884",
   "metadata": {},
   "outputs": [],
   "source": [
    "import Pkg\n",
    "#Pkg.add(\"Zygote\")\n",
    "#Pkg.instantiate()\n",
    "#Pkg.add(\"StatsBase\")\n",
    "#Pkg.add(\"UnPack\")\n",
    "#Pkg.add(\"Revise\")\n",
    "using ComponentArrays\n",
    "using Distributions\n",
    "#using WGLMakie\n",
    "using Lux\n",
    "using LuxCUDA\n",
    "using OptimizationOptimJL\n",
    "using Random\n",
    "using UnPack\n",
    "using Zygote\n",
    "#using CairoMakie  # Backend que funciona en notebooks\n",
    "using StatsBase\n",
    "using Revise\n",
    "using Plots\n",
    "using JLD2\n",
    "#import NaNMath"
   ]
  },
  {
   "cell_type": "markdown",
   "id": "681d94b5",
   "metadata": {},
   "source": [
    "## Status:\n",
    "\n",
    "Working well in both GPU and CPU without adaptivity. Using both initial data for u and its derivative."
   ]
  },
  {
   "cell_type": "markdown",
   "id": "72174904",
   "metadata": {},
   "source": [
    "I put some functions here."
   ]
  },
  {
   "cell_type": "code",
   "execution_count": null,
   "id": "2b9bc019",
   "metadata": {},
   "outputs": [],
   "source": [
    "includet(\"../../neural_tools.jl\")"
   ]
  },
  {
   "cell_type": "code",
   "execution_count": null,
   "id": "4b173ddd",
   "metadata": {},
   "outputs": [],
   "source": [
    "# -------------------------------------------------------------------\n",
    "# Configuración\n",
    "# -------------------------------------------------------------------\n",
    "config = Dict(\n",
    "    :N_input => 2,          # [x; t]\n",
    "    :N_neurons => 40,\n",
    "    :N_layers => 3,\n",
    "    :N_output => 1, \n",
    "    :N_points => 5_000,     # puntos de colisión (x,t)\n",
    "    :N_points_bound => 0, # puntos de frontera\n",
    "    :N_points_0 => 0,    # puntos de condición inicial\n",
    "    :xmin => 0.0,\n",
    "    :xmax => 1.0,           # = L dominio espacial\n",
    "    :tmin => 0.0,           # t_min\n",
    "    :tmax => 2.0,           # t_max\n",
    "    :optimizer => BFGS(),\n",
    "    #:optimizer => SSBroyden(),\n",
    "    :maxiters => 3_000,\n",
    "    :N_rounds => 20,    # 5           # nº de rondas RAD\n",
    "    :iters_per_round => 500,       # iteraciones BFGS por ronda\n",
    "    :k1 => 1.0, \n",
    "    :k2 => 1.0,        # hiperparámetros RAD\n",
    "    :N_test => 3_000,             # candidatos por ronda, mayor que N_points\n",
    "    #:method => :adaptive,\n",
    "    :method => :direct,\n",
    "    # for the initial data\n",
    "    :A => 1.0,\n",
    "    :B => 0.0,\n",
    "    :x0 => 2.0,\n",
    "    :x1 => 3.0,\n",
    "    :p => 2,\n",
    "    :c => 1.0\n",
    ")"
   ]
  },
  {
   "cell_type": "markdown",
   "id": "c8b1da1f",
   "metadata": {},
   "source": [
    "**Note 1:** I attempted to put a bump function of compact support (with some if's) and could not make it run. It seems there are problems with the AD scheme to handle if's. So I put a simpler function.\n",
    "\n",
    "**Note 2:** As it is, with adaptive it takes 12 hours (CPU) to run... And the solution is wrong..."
   ]
  },
  {
   "cell_type": "code",
   "execution_count": null,
   "id": "72ecacfd",
   "metadata": {},
   "outputs": [],
   "source": [
    "# -------------------------------------------------------------------\n",
    "# Second order wave equation (onda 1D): u_tt - c^2 u_xx = 0\n",
    "# -------------------------------------------------------------------\n",
    "\n",
    "function wave_equation(∂2u_∂x2, ∂2u_∂t2, config) \n",
    "    @unpack c\n",
    "    ∂2u_∂t2 .- (c^2) .* ∂2u_∂x2\n",
    "end\n",
    "\n",
    "```\n",
    "Residual at collocation points\n",
    "``` \n",
    "\n",
    "function residual_at_points_Dirichlet(input, NN, Θ, st)\n",
    "    x, t = input[1:1, :], input[2:2, :]\n",
    "    _, u_xx, u_tt = calculate_derivatives_Dirichlet(x, t, NN, Θ, st)\n",
    "    res = wave_equation(u_xx, u_tt, config[:c])\n",
    "    return vec(abs.(res |> cpu_device()))  # magnitud del residuo en CPU\n",
    "end\n",
    "\n",
    "\n",
    "# -------------------------------------------------------------------\n",
    "# Loss function with Dirichlet boundary conditions hard enforced.\n",
    "# -------------------------------------------------------------------\n",
    "\n",
    "function loss_function(input, NN, Θ, st)\n",
    "    res = residual_at_points_Dirichlet(input[1], NN, Θ, st)\n",
    "    #return NaNMath.log10(sum(abs2, res) / length(res))\n",
    "    return sum(abs2, res) / length(res)\n",
    "end\n",
    "\n",
    "#=\n",
    "function loss_function(input, NN, Θ, st)\n",
    "    x, t = input[1:1, :], input[2:2, :]\n",
    "    _, u_xx, u_tt = calculate_derivatives_Dirichlet(x, t, NN, Θ, st)\n",
    "    res = wave_equation(u_xx, u_tt, config[:c])\n",
    "    #return NaNMath.log10(sum(abs2, res) / length(res))\n",
    "    return log10(sum(abs2, res) / length(res))\n",
    "end\n",
    "=#\n",
    "\n",
    "# -------------------------------------------------------------------\n",
    "# Callback\n",
    "# -------------------------------------------------------------------\n",
    "function callback(p, l, losses)\n",
    "    println(\"Current loss: \", l)\n",
    "    push!(losses, log10(l))\n",
    "    return false\n",
    "end"
   ]
  },
  {
   "cell_type": "markdown",
   "id": "86dc3726",
   "metadata": {},
   "source": [
    "Initial data:"
   ]
  },
  {
   "cell_type": "code",
   "execution_count": null,
   "id": "64e725e6",
   "metadata": {},
   "outputs": [],
   "source": [
    "#This way it does not work on GPUS, so we define the function inside the other function\n",
    "#u0(x) = config[:A]*(x .- xmin).^4 .* (x .- xmax).^4 ./ ((xmax - xmin)/2)^8 # Initial condition\n",
    "#u1(x) = config[:B]*(x .- xmin).^4 .* (x .- xmax).^4 ./ ((xmax - xmin)/2)^8 # Initial condition for the time derivative\n",
    "\n",
    "@unpack xmin, xmax, A, B, p = config\n",
    "#u0(x) = A * (x .- xmin).^4 .* (x .- xmax).^4 ./ ((xmax - xmin)/2)^8\n",
    "#u1(x) = B * 4.0 .*(x .- xmin).^3 .* (x .- xmax).^3 ./ ((xmax - xmin)/2)^8 .* (2x .- (xmax - xmin))\n",
    "\n",
    "u0(x) = A*sin.(2π*x*p/(xmax - xmin))\n",
    "u1(x) = 0.0.*x"
   ]
  },
  {
   "cell_type": "markdown",
   "id": "2a978847",
   "metadata": {},
   "source": [
    "### Results:\n",
    "\n",
    "1. With the p=4 polynomial data works OK and the error is of low frequency.\n",
    "2. With the p=4 sin data it does not work. Start decreasing the loss function but at some point there is a problem with the optimizer and it does not improve further, on the contrary the loss stabilizes in a larger value."
   ]
  },
  {
   "cell_type": "code",
   "execution_count": null,
   "id": "3bd6186e",
   "metadata": {},
   "outputs": [],
   "source": [
    "# -------------------------------------------------------------------\n",
    "# Entrenamiento\n",
    "# -------------------------------------------------------------------\n",
    "losses = []\n",
    "NN, Θ, st = create_neural_network(config)\n",
    "input = generate_input_x_t(config)\n",
    "input0 = generate_input0_x(config)\n",
    "input_bound = generate_input_boundary_x(config)\n",
    "input_total = [input, input0, input_bound]\n",
    "\n",
    "@show typeof(input_total) size(input_total)\n",
    "@show get_parameter_count(config)\n",
    "\n",
    "#input_total[1] === input"
   ]
  },
  {
   "cell_type": "code",
   "execution_count": null,
   "id": "0082f2bb",
   "metadata": {},
   "outputs": [],
   "source": [
    "loss_function(input_total, NN, Θ, st)"
   ]
  },
  {
   "cell_type": "code",
   "execution_count": null,
   "id": "8dfcfa3d",
   "metadata": {},
   "outputs": [],
   "source": [
    "\n",
    "\n",
    "#calculate_Dirichlet_f(input[1:1, :], input[2:2, :], NN, Θ, st)\n",
    "#f, ∂2f_∂x2, ∂2f_∂t2 = calculate_derivatives_Dirichlet(input[1:1, :], input[2:2, :], NN, Θ, st)"
   ]
  },
  {
   "cell_type": "code",
   "execution_count": null,
   "id": "e7dd8119",
   "metadata": {},
   "outputs": [],
   "source": [
    "Θ, st, losses = compute_solution_1d(config, input_total, NN, Θ, st, losses)\n",
    "# Parámetros optimizados a CPU si procede\n",
    "Θ = optresult.u |> cpu_device()"
   ]
  },
  {
   "cell_type": "markdown",
   "id": "5797eda5",
   "metadata": {},
   "source": [
    "**Save data:**"
   ]
  },
  {
   "cell_type": "code",
   "execution_count": null,
   "id": "b76c2d54",
   "metadata": {},
   "outputs": [],
   "source": [
    "println(\"Training completed. Saving data\")\n",
    "#@save \"wave_Dir_1.jld2\" config Θ st losses\n",
    "#@save \"wave_dirichlet_1D_adaptive.jld2\" NN Θ st config losses\n",
    "@save \"wave_dirichlet_1D_u0_sin_u1_zero_p4_SSB.jld2\" NN Θ st config losses"
   ]
  },
  {
   "cell_type": "code",
   "execution_count": null,
   "id": "22e9e8d6",
   "metadata": {},
   "outputs": [],
   "source": [
    "plot(losses, label = \"Loss\", title = \"loss vs iterations\") #, yscale = :log10)\n"
   ]
  },
  {
   "cell_type": "code",
   "execution_count": null,
   "id": "ac96933b",
   "metadata": {},
   "outputs": [],
   "source": [
    "losses\n",
    "\n",
    "config[:tmax]"
   ]
  },
  {
   "cell_type": "markdown",
   "id": "b685ddf1",
   "metadata": {},
   "source": [
    "For the initial data with $u_1(x) = \\partial_x u_0(x)$ the solution is:\n",
    "\n",
    "$$ \n",
    "u(x,t) = \n",
    "\\begin{cases}\n",
    "& u_0(x+t) \\;\\;\\;\\; t \\leq x \\;\\;\\text{and} \\;\\;  t \\leq 1 - x \\\\\n",
    "& u_0(x+t) - u_0(x-t) \\;\\;\\;\\;\\; t \\geq x \\;\\; \\text{and} \\;\\; t \\leq 1 - x \\\\\n",
    "& 0 \\;\\;\\;\\;\\; t \\leq x \\;\\; \\text{and} \\;\\; t \\geq 1 - x \\\\\n",
    "& - u_0(x-t) \\;\\;\\;\\;\\; t \\geq x \\;\\; \\text{and} \\;\\; t \\geq 1 - x ;\\; \\text{and} \\;\\; t \\leq 1 + x \\\\\n",
    "\\end{cases} \n",
    "$$"
   ]
  },
  {
   "cell_type": "code",
   "execution_count": null,
   "id": "fb73de9d",
   "metadata": {},
   "outputs": [],
   "source": [
    "#@unpack xmin, xmax, A, B, p = config\n",
    "t = 1.24\n",
    "xs = reshape(collect(range(config[:xmin], config[:xmax], length=200)), 1, :)\n",
    "t_fix = reshape(fill(t, length(xs)), 1, :)\n",
    "#sol_p = [calculate_Dirichlet_f(xs, t_fix, NN, Θ, st) for x in xs]\n",
    "sol_p = [calculate_Dirichlet_f_wf(xs[:,i], t_fix[:,i], NN, Θ, st)[1] for i in 1:length(xs[1,:])]\n",
    "\n",
    "plot(xs[1,:],sol_p, label = \"approximatio at t=$t\", title = \"solution\")\n",
    "#lines!(xs[1,:],bump.(xs[1,:], config[:x0], config[:x1], config[:p], config[:A]), label = \"initial condition\")\n",
    "plot!(xs[1,:],u0(xs[1,:]), label = \"initial condition\", linestyle = :dash)  \n",
    "plot!(xlabel = \"x\", ylabel = \"u(x,t)\")   \n",
    "plot!(xs[1,:], A*(sin.(2π*(xs[1,:].+t)*p/(xmax - xmin)) + sin.(2π*(xs[1,:].-t)*p/(xmax - xmin)))/2, label = \"exact solution at t = $t\")  # exact solution at t=2.0\n"
   ]
  },
  {
   "cell_type": "code",
   "execution_count": null,
   "id": "2a27d887",
   "metadata": {},
   "outputs": [],
   "source": [
    "ax = (title = \"solution\")\n",
    "t = 1.0\n",
    "xs = reshape(collect(range(config[:xmin], config[:xmax], length=20000)), 1, :)\n",
    "t_fix = reshape(fill(t, length(xs)), 1, :)\n",
    "sol_p = [calculate_Dirichlet_f_wf(xs[:,i], t_fix[:,i], NN, Θ, st)[1] for i in 1:length(xs[1,:])]\n",
    "\n",
    "plot(xs[1,:],sol_p .+ u0.(xs[1,:]), label = \"eror at t=1\")"
   ]
  }
 ],
 "metadata": {
  "kernelspec": {
   "display_name": "Julia 1.11.7",
   "language": "julia",
   "name": "julia-1.11"
  },
  "language_info": {
   "file_extension": ".jl",
   "mimetype": "application/julia",
   "name": "julia",
   "version": "1.11.7"
  }
 },
 "nbformat": 4,
 "nbformat_minor": 5
}
