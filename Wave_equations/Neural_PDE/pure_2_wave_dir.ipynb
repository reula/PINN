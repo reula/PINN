{
 "cells": [
  {
   "cell_type": "markdown",
   "id": "d26452c8",
   "metadata": {},
   "source": [
    "# This is a second order wave equation with Dirichlet boundary conditions used to test different minimizers. \n",
    "\n",
    "We just implement the wave equation as a toy model to try different minimizers and strategies. "
   ]
  },
  {
   "cell_type": "markdown",
   "id": "ca9e4e7b",
   "metadata": {},
   "source": [
    "Let's solve this 1-dimensional wave equation:\n",
    "\n",
    "```math\n",
    "\\begin{align*}\n",
    "∂^2_t u(x, t) = c^2 ∂^2_x u(x, t) \\quad & \\textsf{for all } 0 < x < 1 \\text{ and } t > 0 \\, , \\\\\n",
    "u(0, t) = u(1, t) = 0 \\quad & \\textsf{for all } t > 0 \\, , \\\\\n",
    "u(x, 0) = x (1-x)     \\quad & \\textsf{for all } 0 < x < 1 \\, , \\\\\n",
    "∂_t u(x, 0) = 0       \\quad & \\textsf{for all } 0 < x < 1 \\, , \\\\\n",
    "\\end{align*}\n",
    "```\n",
    "\n",
    "with grid discretization `dx = 0.1` and physics-informed neural networks.\n",
    "\n",
    "Further, the solution of this equation with the given boundary conditions is presented.\n"
   ]
  },
  {
   "cell_type": "code",
   "execution_count": null,
   "id": "82ecae6d",
   "metadata": {},
   "outputs": [],
   "source": [
    "using NeuralPDE, Lux, LuxCUDA, Optimization, OptimizationOptimJL\n",
    "using ModelingToolkit, IntervalSets, Plots, JLD2\n",
    "using ComponentArrays, Random\n",
    "const gpud = gpu_device()\n",
    "\n",
    "@parameters t, x\n",
    "@variables u(..)\n",
    "Dxx = Differential(x)^2\n",
    "Dtt = Differential(t)^2\n",
    "Dt = Differential(t)\n",
    "\n",
    "#2D PDE\n",
    "C = 1\n",
    "eq = Dtt(u(t, x)) ~ C^2 * Dxx(u(t, x))\n",
    "\n",
    "# Initial and boundary conditions\n",
    "bcs = [u(t, 0) ~ 0.0,# for all t > 0\n",
    "    u(t, 1) ~ 0.0,# for all t > 0\n",
    "    u(0, x) ~ x * (1.0 - x), #for all 0 < x < 1\n",
    "    Dt(u(0, x)) ~ 0.0] #for all  0 < x < 1]\n",
    "\n",
    "# Space and time domains\n",
    "ti = 0.0\n",
    "tf = 1.0\n",
    "xi = 0.0\n",
    "xf = 1.0\n",
    "domains = [t ∈ Interval(ti, tf),\n",
    "    x ∈ Interval(xi, xf)]\n",
    "# Discretization\n",
    "dx = 0.1\n",
    "\n",
    "@named wave = PDESystem(eq, bcs, domains, [t, x], [u(t, x)])\n",
    "\n",
    "# Neural network\n",
    "chain = Chain(Dense(2, 16, σ), Dense(16, 16, σ), Dense(16, 1))\n",
    "\n",
    "ps = Lux.setup(Random.default_rng(), chain)[1]\n",
    "ps = ps |> ComponentArray |> gpud .|> Float64\n",
    "\n",
    "strategy = QuasiRandomTraining(100)\n",
    "#strategy = QuadratureTraining(; abstol = 1e-6, reltol = 1e-6, batch = 200)\n",
    "#strategy = GridTraining(0.05)\n",
    "discretization = PhysicsInformedNN(chain, strategy; init_params = ps#, param_estim = true\n",
    "#, additional_loss = additional_loss\n",
    ")\n",
    "\n",
    "prob = discretize(wave, discretization)\n",
    "sym_prob = symbolic_discretize(wave, discretization)\n",
    "\n",
    "pde_inner_loss_functions = sym_prob.loss_functions.pde_loss_functions\n",
    "bcs_inner_loss_functions = sym_prob.loss_functions.bc_loss_functions\n",
    "\n",
    "loss = Float64[]\n",
    "callback = function (p, l)\n",
    "    push!(loss, l)\n",
    "    println(\"loss: \", l)\n",
    "    println(\"pde_losses: \", map(l_ -> l_(p.u), pde_inner_loss_functions))\n",
    "    println(\"bcs_losses: \", map(l_ -> l_(p.u), bcs_inner_loss_functions))\n",
    "    return false\n",
    "end\n",
    "#discretization = PhysicsInformedNN(chain, GridTraining(dx))\n",
    "\n",
    "@named pde_system = PDESystem(eq, bcs, domains, [t, x], [u(t, x)])\n",
    "prob = discretize(pde_system, discretization)\n",
    "\n"
   ]
  },
  {
   "cell_type": "code",
   "execution_count": null,
   "id": "5c911b96",
   "metadata": {},
   "outputs": [],
   "source": [
    "\n",
    "opt = OptimizationOptimJL.BFGS()\n",
    "res = Optimization.solve(prob, opt; callback, maxiters = 12000)\n",
    "phi = discretization.phi"
   ]
  },
  {
   "cell_type": "code",
   "execution_count": null,
   "id": "6f857797",
   "metadata": {},
   "outputs": [],
   "source": [
    "using Plots\n",
    "\n",
    "plot(loss, yscale=:log10, xlabel=\"Iteration\", ylabel=\"Loss\", title=\"Loss vs Iteration\"  )\n",
    "#savefig(\"loss_pure_2_wave_BFGS.png\")"
   ]
  },
  {
   "cell_type": "code",
   "execution_count": null,
   "id": "2e4e23d0",
   "metadata": {},
   "outputs": [],
   "source": [
    "#using Plots\n",
    "\n",
    "ts = ti:dx:tf\n",
    "xs = xi:dx:xf\n",
    "function analytic_sol_func(t, x)\n",
    "    sum([(8 / (k^3 * pi^3)) * sin(k * pi * x) * cos(C * k * pi * t) for k in 1:2:50000])\n",
    "end\n",
    "\n",
    "u_predict = [first(Array(phi([t, x], res.u))) for t in ts for x in xs]\n",
    "u_real = [analytic_sol_func(t, x) for t in ts for x in xs]\n",
    "\n",
    "diff_u = abs.(u_predict .- u_real)\n",
    "p1 = plot(ts, xs, u_real, linetype = :contourf, title = \"analytic\");\n",
    "p2 = plot(ts, xs, u_predict, linetype = :contourf, title = \"predict\");\n",
    "p3 = plot(ts, xs, diff_u, linetype = :contourf, title = \"error\");\n",
    "plot(p1, p2, p3)\n"
   ]
  }
 ],
 "metadata": {
  "kernelspec": {
   "display_name": "Julia 1.11.7",
   "language": "julia",
   "name": "julia-1.11"
  },
  "language_info": {
   "file_extension": ".jl",
   "mimetype": "application/julia",
   "name": "julia",
   "version": "1.11.7"
  }
 },
 "nbformat": 4,
 "nbformat_minor": 5
}
