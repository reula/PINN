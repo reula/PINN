{
 "cells": [
  {
   "cell_type": "markdown",
   "id": "d26452c8",
   "metadata": {},
   "source": [
    "# Inverse problem\n",
    "\n",
    "Here we look at the 1D wave equation and solve an inverse problem. Given initial and boundary conditions for a wave equation with variable speed, find the correct speed minimizing also the values of the field a selected space-time points. This is an example in the package Sophon.jl but done to run in the Neural_PDE infrastructure."
   ]
  },
  {
   "cell_type": "code",
   "execution_count": null,
   "id": "d246dc6a",
   "metadata": {},
   "outputs": [],
   "source": [
    "# Neural network\n",
    "\n",
    "input_ = length(domains)\n",
    "n = 16\n",
    "length_vars = 2\n",
    "\n",
    "#chain = [Chain(Dense(input_, n, σ), Dense(n, n, σ), Dense(n, 1)) for _ in 1:length_vars]\n",
    "chain = [Chain(Dense(2, n, σ), Dense(n, n, σ), Dense(n, 1)), Chain(Dense(1, n, σ), Dense(n, n, σ), Dense(n, 1))]\n",
    "\n"
   ]
  },
  {
   "cell_type": "code",
   "execution_count": null,
   "id": "ba32c6a9",
   "metadata": {},
   "outputs": [],
   "source": [
    "\n",
    "\n",
    "\n",
    "#strategy = QuadratureTraining(; abstol = 1e-6, reltol = 1e-6, batch = 200)\n",
    "strategy = GridTraining(0.05)\n",
    "discretization = PhysicsInformedNN(chain, strategy#, param_estim = true\n",
    ", additional_loss = additional_loss\n",
    ")\n",
    "\n",
    "prob = discretize(wave, discretization)\n",
    "\n",
    "sym_prob = symbolic_discretize(wave, discretization)\n",
    "\n",
    "pde_inner_loss_functions = sym_prob.loss_functions.pde_loss_functions\n",
    "bcs_inner_loss_functions = sym_prob.loss_functions.bc_loss_functions\n",
    "#add_inner_loss_functions = sym_prob.loss_functions.add_loss_functions\n",
    "loss = []\n",
    "callback = function (p, l)\n",
    "    push!(loss, l)\n",
    "    println(\"loss: \", l)\n",
    "    println(\"pde_losses: \", map(l_ -> l_(p.u), pde_inner_loss_functions))\n",
    "    println(\"bcs_losses: \", map(l_ -> l_(p.u), bcs_inner_loss_functions))\n",
    "    #println(\"add_losses: \", map(l_ -> l_(p.u), add_inner_loss_functions))\n",
    "    return false\n",
    "end\n"
   ]
  },
  {
   "cell_type": "code",
   "execution_count": null,
   "id": "1b9701f5",
   "metadata": {},
   "outputs": [],
   "source": [
    "# optimizer\n",
    "opt = OptimizationOptimJL.BFGS()\n",
    "res = Optimization.solve(prob, opt; callback, maxiters = 2000)\n",
    "phi = discretization.phi"
   ]
  },
  {
   "cell_type": "code",
   "execution_count": null,
   "id": "1d11dd37",
   "metadata": {},
   "outputs": [],
   "source": [
    "ax = (title = \"loss vs iterations\")\n",
    "fig, ax = lines(log10.(loss), label = \"Loss\")\n",
    "axislegend()\n",
    "fig"
   ]
  },
  {
   "cell_type": "code",
   "execution_count": null,
   "id": "53fecbf5",
   "metadata": {},
   "outputs": [],
   "source": [
    "#using CairoMakie\n",
    "\n",
    "ts = range(0, 1; length=100)\n",
    "xs = range(0, 1; length=100)\n",
    "depvars = [:u, :c]\n",
    "\n",
    "u_pred = [phi[1]([x, t], res.u.depvar[depvars[1]])[1] for x in xs, t in ts]\n",
    "c_pred = [phi[2]([x], res.u.depvar[depvars[2]])[1] for x in xs]\n",
    "\n",
    "u_true = [ū(x, t) for x in xs, t in ts]\n",
    "c_true = 1 .+ abs2.(xs) |> vec\n",
    "\n",
    "axis = (xlabel=\"x\", ylabel=\"t\", title=\"Analytical Solution\")\n",
    "fig, ax1, hm1 = heatmap(xs, ts, u_true, axis=axis; colormap=:jet)\n",
    "ax2, hm2= heatmap(fig[1, end+1], xs, ts, u_pred, axis= merge(axis, (;title = \"Prediction\")); colormap=:jet)\n",
    "ax3, hm3 = heatmap(fig[1, end+1], xs, ts, abs.(u_true .- u_pred), axis= merge(axis, (;title = \"Absolute Error\")); colormap=:jet)\n",
    "Colorbar(fig[:, end+1], hm3)\n",
    "fig"
   ]
  },
  {
   "cell_type": "code",
   "execution_count": null,
   "id": "b175b4c9",
   "metadata": {},
   "outputs": [],
   "source": [
    "fig, ax = lines(xs, c_pred, label = \"Predicted c(x)\")\n",
    "lines!(ax, xs, c_true, label = \"True c(x)\", color = :red)\n",
    "axislegend()\n",
    "fig"
   ]
  }
 ],
 "metadata": {
  "kernelspec": {
   "display_name": "Julia 1.11.7",
   "language": "julia",
   "name": "julia-1.11"
  },
  "language_info": {
   "file_extension": ".jl",
   "mimetype": "application/julia",
   "name": "julia",
   "version": "1.11.7"
  }
 },
 "nbformat": 4,
 "nbformat_minor": 5
}
